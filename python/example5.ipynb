{
  "nbformat": 4,
  "nbformat_minor": 0,
  "metadata": {
    "colab": {
      "name": "\bexample5.ipynb",
      "provenance": [],
      "collapsed_sections": [],
      "authorship_tag": "ABX9TyNighPnaQF+RoTM7Zbe+VL9",
      "include_colab_link": true
    },
    "kernelspec": {
      "name": "python3",
      "display_name": "Python 3"
    },
    "language_info": {
      "name": "python"
    }
  },
  "cells": [
    {
      "cell_type": "markdown",
      "metadata": {
        "id": "view-in-github",
        "colab_type": "text"
      },
      "source": [
        "<a href=\"https://colab.research.google.com/github/ytam1208/Googlecolab/blob/main/%08example5.ipynb\" target=\"_parent\"><img src=\"https://colab.research.google.com/assets/colab-badge.svg\" alt=\"Open In Colab\"/></a>"
      ]
    },
    {
      "cell_type": "code",
      "execution_count": 4,
      "metadata": {
        "id": "B_H2eenC-TH8"
      },
      "outputs": [],
      "source": [
        "import pandas as pd\n",
        "import numpy as np"
      ]
    },
    {
      "cell_type": "code",
      "source": [
        "#Series - pandas\n",
        "#index 없이 데이터만 생성\n",
        "s1 = pd.Series([1,2,3])\n",
        "print(s1)"
      ],
      "metadata": {
        "colab": {
          "base_uri": "https://localhost:8080/"
        },
        "id": "tipcyluCASYb",
        "outputId": "5984c6df-b5d5-4633-e7ef-a5a8083af301"
      },
      "execution_count": 11,
      "outputs": [
        {
          "output_type": "stream",
          "name": "stdout",
          "text": [
            "0    1\n",
            "1    2\n",
            "2    3\n",
            "dtype: int64\n"
          ]
        }
      ]
    },
    {
      "cell_type": "code",
      "source": [
        "s2 = pd.Series([\"a\",\"b\",\"c\"])\n",
        "print(s2)"
      ],
      "metadata": {
        "colab": {
          "base_uri": "https://localhost:8080/"
        },
        "id": "7qR7rCxWAeZh",
        "outputId": "eb7615e6-2d4b-4a56-bb81-feb1f4c6a4c6"
      },
      "execution_count": 12,
      "outputs": [
        {
          "output_type": "stream",
          "name": "stdout",
          "text": [
            "0    a\n",
            "1    b\n",
            "2    c\n",
            "dtype: object\n"
          ]
        }
      ]
    },
    {
      "cell_type": "code",
      "source": [
        "s3 = pd.Series(np.arange(200))\n",
        "print(s3)"
      ],
      "metadata": {
        "colab": {
          "base_uri": "https://localhost:8080/"
        },
        "id": "XFSz819dAlE4",
        "outputId": "d0c0ae5e-174b-488a-e33b-75ad21b2772b"
      },
      "execution_count": 13,
      "outputs": [
        {
          "output_type": "stream",
          "name": "stdout",
          "text": [
            "0        0\n",
            "1        1\n",
            "2        2\n",
            "3        3\n",
            "4        4\n",
            "      ... \n",
            "195    195\n",
            "196    196\n",
            "197    197\n",
            "198    198\n",
            "199    199\n",
            "Length: 200, dtype: int64\n"
          ]
        }
      ]
    },
    {
      "cell_type": "code",
      "source": [
        "# index 명시, 데이터들에 직접적으로 할당을 해준다.\n",
        "s4 = pd.Series([1,2,3],[100,200,300])\n",
        "print(s4)"
      ],
      "metadata": {
        "colab": {
          "base_uri": "https://localhost:8080/"
        },
        "id": "0eu9aE_nAy06",
        "outputId": "06bedbc3-c946-41d9-c4f3-8d47724e6b77"
      },
      "execution_count": 15,
      "outputs": [
        {
          "output_type": "stream",
          "name": "stdout",
          "text": [
            "100    1\n",
            "200    2\n",
            "300    3\n",
            "dtype: int64\n"
          ]
        }
      ]
    },
    {
      "cell_type": "code",
      "source": [
        "s5 = pd.Series([1,2,3],[\"a\",\"1\",\"x\"])\n",
        "print(s5)\n",
        "#딕셔너리와 비슷한 구조이다."
      ],
      "metadata": {
        "colab": {
          "base_uri": "https://localhost:8080/"
        },
        "id": "fR11wt3wBMUB",
        "outputId": "f12c6ede-41a0-4279-f276-12b630344cff"
      },
      "execution_count": 16,
      "outputs": [
        {
          "output_type": "stream",
          "name": "stdout",
          "text": [
            "a    1\n",
            "1    2\n",
            "x    3\n",
            "dtype: int64\n"
          ]
        }
      ]
    },
    {
      "cell_type": "code",
      "source": [
        "s6 = pd.Series(np.arange(5), np.arange(100,105), dtype=np.int64)\n",
        "print(s6)"
      ],
      "metadata": {
        "colab": {
          "base_uri": "https://localhost:8080/"
        },
        "id": "nOIInIURBT0v",
        "outputId": "c6f10b21-f7a5-4026-8bd5-9df01e17bb70"
      },
      "execution_count": 17,
      "outputs": [
        {
          "output_type": "stream",
          "name": "stdout",
          "text": [
            "100    0\n",
            "101    1\n",
            "102    2\n",
            "103    3\n",
            "104    4\n",
            "dtype: int64\n"
          ]
        }
      ]
    },
    {
      "cell_type": "code",
      "source": [
        "print(s5.index)"
      ],
      "metadata": {
        "colab": {
          "base_uri": "https://localhost:8080/"
        },
        "id": "F_lPZ2CnBwkU",
        "outputId": "bc738ccd-2504-4fb6-a9b1-e135f3e089e9"
      },
      "execution_count": 20,
      "outputs": [
        {
          "output_type": "stream",
          "name": "stdout",
          "text": [
            "Index(['a', '1', 'x'], dtype='object')\n"
          ]
        }
      ]
    },
    {
      "cell_type": "code",
      "source": [
        "print(s5.values)"
      ],
      "metadata": {
        "colab": {
          "base_uri": "https://localhost:8080/"
        },
        "id": "annn_rHOB6KU",
        "outputId": "adf64284-172a-4b62-d415-87c0ab6cc4f8"
      },
      "execution_count": 22,
      "outputs": [
        {
          "output_type": "stream",
          "name": "stdout",
          "text": [
            "[1 2 3]\n"
          ]
        }
      ]
    },
    {
      "cell_type": "code",
      "source": [
        "print(s5['a'])"
      ],
      "metadata": {
        "colab": {
          "base_uri": "https://localhost:8080/"
        },
        "id": "rZGQJS6pCK-M",
        "outputId": "f30c7631-19a9-4198-8326-1332b4afda3a"
      },
      "execution_count": 25,
      "outputs": [
        {
          "output_type": "stream",
          "name": "stdout",
          "text": [
            "3\n"
          ]
        }
      ]
    },
    {
      "cell_type": "code",
      "source": [
        "s5['m']=1000\n",
        "print(s5)\n",
        "#새롭게 데이터 추가도 가능하다."
      ],
      "metadata": {
        "colab": {
          "base_uri": "https://localhost:8080/"
        },
        "id": "Tbt6Oe3cCY4s",
        "outputId": "f000d639-5c18-4ecc-8a9c-2368ec5f5046"
      },
      "execution_count": 29,
      "outputs": [
        {
          "output_type": "stream",
          "name": "stdout",
          "text": [
            "a       1\n",
            "1       2\n",
            "x       3\n",
            "m    1000\n",
            "dtype: int64\n"
          ]
        }
      ]
    },
    {
      "cell_type": "code",
      "source": [
        "s7 = pd.Series([1,1,2,1,2,2,2,1,1,3,3,4,5,5,7,np.NaN])\n",
        "print(s7[[5,7,9]])"
      ],
      "metadata": {
        "colab": {
          "base_uri": "https://localhost:8080/"
        },
        "id": "d2s3OD1hCiZj",
        "outputId": "5b1a9acd-6441-4511-ede4-f18fc43a71cd"
      },
      "execution_count": 33,
      "outputs": [
        {
          "output_type": "stream",
          "name": "stdout",
          "text": [
            "5    2.0\n",
            "7    1.0\n",
            "9    3.0\n",
            "dtype: float64\n"
          ]
        }
      ]
    },
    {
      "cell_type": "code",
      "source": [
        "s = pd.Series([1,1,2,1,2,2,2,1,1,3,3,4,5,5,7,np.NaN])\n",
        "print(len(s))\n",
        "print(s.size)\n",
        "print(s.shape) #1차원이고 16개 데이터 있다."
      ],
      "metadata": {
        "colab": {
          "base_uri": "https://localhost:8080/"
        },
        "id": "V9_mNt5XC3Va",
        "outputId": "2f03fe86-22f9-4ca2-964a-4ea38480dc80"
      },
      "execution_count": 39,
      "outputs": [
        {
          "output_type": "stream",
          "name": "stdout",
          "text": [
            "16\n",
            "16\n",
            "(16,)\n"
          ]
        }
      ]
    },
    {
      "cell_type": "code",
      "source": [
        "#중복된 수 없이 데이터 나열을 해줌\n",
        "print(s.unique())\n",
        "print(s.count()) # count -> NaN을 카운트하지 않는다.  Numpy와의 큰 차이!\n",
        "print(s.mean())\n",
        "a = np.array([2,2,2,2,np.NaN])  \n",
        "a.mean()  #NaN까지 고려해서 계산한다."
      ],
      "metadata": {
        "colab": {
          "base_uri": "https://localhost:8080/"
        },
        "id": "KhRx8m1MDvfU",
        "outputId": "340574de-4386-4256-f2cb-f1798a9fdf3c"
      },
      "execution_count": 47,
      "outputs": [
        {
          "output_type": "execute_result",
          "data": {
            "text/plain": [
              "nan"
            ]
          },
          "metadata": {},
          "execution_count": 47
        }
      ]
    },
    {
      "cell_type": "code",
      "source": [
        "s.value_counts()"
      ],
      "metadata": {
        "colab": {
          "base_uri": "https://localhost:8080/"
        },
        "id": "B3Tv6T4SEZRh",
        "outputId": "360c053c-3153-4960-c8c1-0e91718a4802"
      },
      "execution_count": 48,
      "outputs": [
        {
          "output_type": "execute_result",
          "data": {
            "text/plain": [
              "1.0    5\n",
              "2.0    4\n",
              "3.0    2\n",
              "5.0    2\n",
              "4.0    1\n",
              "7.0    1\n",
              "dtype: int64"
            ]
          },
          "metadata": {},
          "execution_count": 48
        }
      ]
    },
    {
      "cell_type": "code",
      "source": [
        "s.head()"
      ],
      "metadata": {
        "colab": {
          "base_uri": "https://localhost:8080/"
        },
        "id": "3it0pYOHEleq",
        "outputId": "0763c912-3446-4dab-c4c1-7d2adae148c0"
      },
      "execution_count": 51,
      "outputs": [
        {
          "output_type": "execute_result",
          "data": {
            "text/plain": [
              "0    1.0\n",
              "1    1.0\n",
              "2    2.0\n",
              "3    1.0\n",
              "4    2.0\n",
              "dtype: float64"
            ]
          },
          "metadata": {},
          "execution_count": 51
        }
      ]
    },
    {
      "cell_type": "code",
      "source": [
        "s.tail()"
      ],
      "metadata": {
        "colab": {
          "base_uri": "https://localhost:8080/"
        },
        "id": "RAHMV-vPEns7",
        "outputId": "86a99eb4-24ec-4860-b657-b4b451a4d9a8"
      },
      "execution_count": 52,
      "outputs": [
        {
          "output_type": "execute_result",
          "data": {
            "text/plain": [
              "11    4.0\n",
              "12    5.0\n",
              "13    5.0\n",
              "14    7.0\n",
              "15    NaN\n",
              "dtype: float64"
            ]
          },
          "metadata": {},
          "execution_count": 52
        }
      ]
    },
    {
      "cell_type": "code",
      "source": [
        "# Series 데이터 연산\n",
        "s1 = pd.Series([1,2,3,4],['a','b','c','d'])\n",
        "s2 = pd.Series([6,3,2,1],['d','c','b','a'])\n",
        "print(s1)\n",
        "print(s2)\n",
        "print(s1+s2)"
      ],
      "metadata": {
        "colab": {
          "base_uri": "https://localhost:8080/"
        },
        "id": "P_i8nTy9ExEU",
        "outputId": "e9d6f2e7-0c31-4dcb-bcfa-54f577220fab"
      },
      "execution_count": 54,
      "outputs": [
        {
          "output_type": "stream",
          "name": "stdout",
          "text": [
            "a    1\n",
            "b    2\n",
            "c    3\n",
            "d    4\n",
            "dtype: int64\n",
            "d    6\n",
            "c    3\n",
            "b    2\n",
            "a    1\n",
            "dtype: int64\n",
            "a     2\n",
            "b     4\n",
            "c     6\n",
            "d    10\n",
            "dtype: int64\n"
          ]
        }
      ]
    },
    {
      "cell_type": "code",
      "source": [
        "s1 = pd.Series([1,2,3,4],['a','b','c','d'])\n",
        "s2 = pd.Series([6,3,2,1],['f','c','b','a'])\n",
        "print(s1)\n",
        "print(s2)\n",
        "print(s1+s2)\n",
        "print(s1**s2)"
      ],
      "metadata": {
        "colab": {
          "base_uri": "https://localhost:8080/"
        },
        "id": "s2teW0szGEOe",
        "outputId": "8e87c7a9-8146-414a-d3f8-8f0d646a0f74"
      },
      "execution_count": 56,
      "outputs": [
        {
          "output_type": "stream",
          "name": "stdout",
          "text": [
            "a    1\n",
            "b    2\n",
            "c    3\n",
            "d    4\n",
            "dtype: int64\n",
            "f    6\n",
            "c    3\n",
            "b    2\n",
            "a    1\n",
            "dtype: int64\n",
            "a    2.0\n",
            "b    4.0\n",
            "c    6.0\n",
            "d    NaN\n",
            "f    NaN\n",
            "dtype: float64\n",
            "a     1.0\n",
            "b     4.0\n",
            "c    27.0\n",
            "d     NaN\n",
            "f     NaN\n",
            "dtype: float64\n"
          ]
        }
      ]
    },
    {
      "cell_type": "code",
      "source": [
        "s = pd.Series(np.arange(10),np.arange(10)+1)\n",
        "print(s > 5)\n",
        "print(s[s>5])"
      ],
      "metadata": {
        "colab": {
          "base_uri": "https://localhost:8080/"
        },
        "id": "FoKUgqTYGWLz",
        "outputId": "91f70e2d-2d38-4e72-94c0-96cd3167dc49"
      },
      "execution_count": 61,
      "outputs": [
        {
          "output_type": "stream",
          "name": "stdout",
          "text": [
            "1     False\n",
            "2     False\n",
            "3     False\n",
            "4     False\n",
            "5     False\n",
            "6     False\n",
            "7      True\n",
            "8      True\n",
            "9      True\n",
            "10     True\n",
            "dtype: bool\n",
            "7     6\n",
            "8     7\n",
            "9     8\n",
            "10    9\n",
            "dtype: int64\n"
          ]
        }
      ]
    },
    {
      "cell_type": "code",
      "source": [
        "s[s.index > 5]"
      ],
      "metadata": {
        "id": "Ogd_MMfoIakT",
        "outputId": "93165891-c7c5-4a56-ae73-35b1a93d1956",
        "colab": {
          "base_uri": "https://localhost:8080/"
        }
      },
      "execution_count": 62,
      "outputs": [
        {
          "output_type": "execute_result",
          "data": {
            "text/plain": [
              "6     5\n",
              "7     6\n",
              "8     7\n",
              "9     8\n",
              "10    9\n",
              "dtype: int64"
            ]
          },
          "metadata": {},
          "execution_count": 62
        }
      ]
    },
    {
      "cell_type": "code",
      "source": [
        "s = pd.Series(np.arange(100,105),['a','b','c','d','e'])\n",
        "s['a']=200\n",
        "s['k']=300\n",
        "s"
      ],
      "metadata": {
        "id": "vOg4uqO7J1Fo",
        "outputId": "0912ba95-44dd-4dea-c79b-3813b093412e",
        "colab": {
          "base_uri": "https://localhost:8080/"
        }
      },
      "execution_count": 66,
      "outputs": [
        {
          "output_type": "execute_result",
          "data": {
            "text/plain": [
              "a    200\n",
              "b    101\n",
              "c    102\n",
              "d    103\n",
              "e    104\n",
              "k    300\n",
              "dtype: int64"
            ]
          },
          "metadata": {},
          "execution_count": 66
        }
      ]
    },
    {
      "cell_type": "code",
      "source": [
        "s1 = pd.Series(np.arange(100,105))\n",
        "s2 = pd.Series(np.arange(100,105),['a','b','c','d','e'])\n",
        "print(s1)\n",
        "print(s2)\n",
        "print(s1[1:3])\n",
        "print(s2[1:3])"
      ],
      "metadata": {
        "id": "YzQDQHgQLMOK",
        "outputId": "d76223c2-fdf1-43cd-d0bc-b0a46c417fd5",
        "colab": {
          "base_uri": "https://localhost:8080/"
        }
      },
      "execution_count": 69,
      "outputs": [
        {
          "output_type": "stream",
          "name": "stdout",
          "text": [
            "0    100\n",
            "1    101\n",
            "2    102\n",
            "3    103\n",
            "4    104\n",
            "dtype: int64\n",
            "a    100\n",
            "b    101\n",
            "c    102\n",
            "d    103\n",
            "e    104\n",
            "dtype: int64\n",
            "1    101\n",
            "2    102\n",
            "dtype: int64\n",
            "b    101\n",
            "c    102\n",
            "dtype: int64\n"
          ]
        }
      ]
    }
  ]
}