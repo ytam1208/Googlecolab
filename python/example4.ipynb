{
  "nbformat": 4,
  "nbformat_minor": 0,
  "metadata": {
    "colab": {
      "name": "example4.ipynb",
      "provenance": [],
      "collapsed_sections": [],
      "authorship_tag": "ABX9TyMGH5yTGMD0H/NH3iN0qVkg",
      "include_colab_link": true
    },
    "kernelspec": {
      "name": "python3",
      "display_name": "Python 3"
    },
    "language_info": {
      "name": "python"
    }
  },
  "cells": [
    {
      "cell_type": "markdown",
      "metadata": {
        "id": "view-in-github",
        "colab_type": "text"
      },
      "source": [
        "<a href=\"https://colab.research.google.com/github/ytam1208/Googlecolab/blob/main/example4.ipynb\" target=\"_parent\"><img src=\"https://colab.research.google.com/assets/colab-badge.svg\" alt=\"Open In Colab\"/></a>"
      ]
    },
    {
      "cell_type": "code",
      "execution_count": 2,
      "metadata": {
        "id": "Jo5bZwCVhqWF"
      },
      "outputs": [],
      "source": [
        "import numpy as np  #numpy를 사용할거다~이름은 np라고 사용할거야"
      ]
    },
    {
      "cell_type": "code",
      "source": [
        "x = np.array([1,2,3])\n",
        "print(x)\n",
        "y = np.array([5,6,7,8])\n",
        "print(y)"
      ],
      "metadata": {
        "colab": {
          "base_uri": "https://localhost:8080/"
        },
        "id": "F53ItvFfjTJh",
        "outputId": "5f5b25cf-bd95-49af-e9fb-850ac6ec3803"
      },
      "execution_count": 4,
      "outputs": [
        {
          "output_type": "stream",
          "name": "stdout",
          "text": [
            "[1 2 3]\n",
            "[5 6 7 8]\n"
          ]
        }
      ]
    },
    {
      "cell_type": "markdown",
      "source": [
        "np.array 함수로 데이터 생성하기"
      ],
      "metadata": {
        "id": "KnI1koRrjtcq"
      }
    },
    {
      "cell_type": "code",
      "source": [
        "x = np.array([1,2,3,4])\n",
        "print(x)\n",
        "y = np.array([[1,2,3],[4,5,6]]) #2차원 행렬 List\n",
        "print(y)\n",
        "print(type(x))\n",
        "print(type(y))"
      ],
      "metadata": {
        "colab": {
          "base_uri": "https://localhost:8080/"
        },
        "id": "KRYb4NvxjwJ1",
        "outputId": "dcae1e9e-b367-482d-8213-c2122c908dee"
      },
      "execution_count": 9,
      "outputs": [
        {
          "output_type": "stream",
          "name": "stdout",
          "text": [
            "[1 2 3 4]\n",
            "[[1 2 3]\n",
            " [4 5 6]]\n",
            "<class 'numpy.ndarray'>\n",
            "<class 'numpy.ndarray'>\n"
          ]
        }
      ]
    },
    {
      "cell_type": "code",
      "source": [
        "#np.arrage 함수\n",
        "a = np.arange(10)\n",
        "b = np.arange(1,10)\n",
        "c = np.arange(1,10,2)\n",
        "print(a, b, c)"
      ],
      "metadata": {
        "colab": {
          "base_uri": "https://localhost:8080/"
        },
        "id": "Rld5EITkkbEU",
        "outputId": "ef8be215-c270-4089-c32a-5f0c1908a88d"
      },
      "execution_count": 10,
      "outputs": [
        {
          "output_type": "stream",
          "name": "stdout",
          "text": [
            "[0 1 2 3 4 5 6 7 8 9] [1 2 3 4 5 6 7 8 9] [1 3 5 7 9]\n"
          ]
        }
      ]
    },
    {
      "cell_type": "code",
      "source": [
        "# 1부터 100까지 수 중에서 , 5의 배수는?\n",
        "five = np.arange(5,101,5)\n",
        "print(five)"
      ],
      "metadata": {
        "colab": {
          "base_uri": "https://localhost:8080/"
        },
        "id": "fYAJOsXGk1pw",
        "outputId": "c1273b9a-5606-47b7-b2a8-6e2af25474be"
      },
      "execution_count": 12,
      "outputs": [
        {
          "output_type": "stream",
          "name": "stdout",
          "text": [
            "[  5  10  15  20  25  30  35  40  45  50  55  60  65  70  75  80  85  90\n",
            "  95 100]\n"
          ]
        }
      ]
    },
    {
      "cell_type": "code",
      "source": [
        "# 행렬이 1 혹은 0으로 가득 찬 행렬\n",
        "first = np.ones((4,5))  #행렬의 형태 4x5\n",
        "print(first)\n",
        "\n",
        "second = np.ones((2,3,4)) #3x4 형태의 행렬이 2개 생성\n",
        "print(second)"
      ],
      "metadata": {
        "colab": {
          "base_uri": "https://localhost:8080/"
        },
        "id": "jvctcqKAlQui",
        "outputId": "f0de081a-099d-4657-c408-42118ada7629"
      },
      "execution_count": 15,
      "outputs": [
        {
          "output_type": "stream",
          "name": "stdout",
          "text": [
            "[[1. 1. 1. 1. 1.]\n",
            " [1. 1. 1. 1. 1.]\n",
            " [1. 1. 1. 1. 1.]\n",
            " [1. 1. 1. 1. 1.]]\n",
            "[[[1. 1. 1. 1.]\n",
            "  [1. 1. 1. 1.]\n",
            "  [1. 1. 1. 1.]]\n",
            "\n",
            " [[1. 1. 1. 1.]\n",
            "  [1. 1. 1. 1.]\n",
            "  [1. 1. 1. 1.]]]\n"
          ]
        }
      ]
    },
    {
      "cell_type": "code",
      "source": [
        "first_zero = np.zeros((2,3))\n",
        "print(first_zero)"
      ],
      "metadata": {
        "colab": {
          "base_uri": "https://localhost:8080/"
        },
        "id": "P6kaJr2eluK9",
        "outputId": "d0a2bb7f-696c-4289-8b3a-13c8a147d84d"
      },
      "execution_count": 17,
      "outputs": [
        {
          "output_type": "stream",
          "name": "stdout",
          "text": [
            "[[0. 0. 0.]\n",
            " [0. 0. 0.]]\n"
          ]
        }
      ]
    },
    {
      "cell_type": "code",
      "source": [
        "second_zero = np.zeros((4,5,2)) # 5x2 행렬이 4개\n",
        "print(second_zero)"
      ],
      "metadata": {
        "colab": {
          "base_uri": "https://localhost:8080/"
        },
        "id": "es1uPNQ0mKXR",
        "outputId": "2f83edfe-5698-441b-ecbc-6fb760524601"
      },
      "execution_count": 18,
      "outputs": [
        {
          "output_type": "stream",
          "name": "stdout",
          "text": [
            "[[[0. 0.]\n",
            "  [0. 0.]\n",
            "  [0. 0.]\n",
            "  [0. 0.]\n",
            "  [0. 0.]]\n",
            "\n",
            " [[0. 0.]\n",
            "  [0. 0.]\n",
            "  [0. 0.]\n",
            "  [0. 0.]\n",
            "  [0. 0.]]\n",
            "\n",
            " [[0. 0.]\n",
            "  [0. 0.]\n",
            "  [0. 0.]\n",
            "  [0. 0.]\n",
            "  [0. 0.]]\n",
            "\n",
            " [[0. 0.]\n",
            "  [0. 0.]\n",
            "  [0. 0.]\n",
            "  [0. 0.]\n",
            "  [0. 0.]]]\n"
          ]
        }
      ]
    },
    {
      "cell_type": "code",
      "source": [
        "#np.empty, np.full\n",
        "#비우거나 / 채우거나\n",
        "empty = np.empty((3,4))\n",
        "print(empty)\n",
        "\n",
        "full = np.full((3,4),7)\n",
        "print(full)"
      ],
      "metadata": {
        "colab": {
          "base_uri": "https://localhost:8080/"
        },
        "id": "qyyNjzyqmSgh",
        "outputId": "05d71a78-5acf-4240-bda9-2152d77dc695"
      },
      "execution_count": 20,
      "outputs": [
        {
          "output_type": "stream",
          "name": "stdout",
          "text": [
            "[[4.68448062e-310 2.35541533e-312 2.12199579e-312 2.58883487e-312]\n",
            " [2.41907520e-312 6.79038654e-313 6.79038653e-313 2.37663529e-312]\n",
            " [2.58883487e-312 2.41907520e-312 2.44029516e-312 1.46030983e-319]]\n",
            "[[7 7 7 7]\n",
            " [7 7 7 7]\n",
            " [7 7 7 7]]\n"
          ]
        }
      ]
    },
    {
      "cell_type": "code",
      "source": [
        "# np.eye -> 단위행렬\n",
        "# 대각선 (우하향) 1이 채워진, 나머지는 0으로 채워진\n",
        "dan = np.eye(5)\n",
        "print(dan)"
      ],
      "metadata": {
        "colab": {
          "base_uri": "https://localhost:8080/"
        },
        "id": "K00rTmEDmm0t",
        "outputId": "72c4fbcf-481d-461f-8d28-8cac506d160c"
      },
      "execution_count": 21,
      "outputs": [
        {
          "output_type": "stream",
          "name": "stdout",
          "text": [
            "[[1. 0. 0. 0. 0.]\n",
            " [0. 1. 0. 0. 0.]\n",
            " [0. 0. 1. 0. 0.]\n",
            " [0. 0. 0. 1. 0.]\n",
            " [0. 0. 0. 0. 1.]]\n"
          ]
        }
      ]
    },
    {
      "cell_type": "code",
      "source": [
        "# np.linspace\n",
        "space = np.linspace(1,10,7) # 1~10까지 수 중에서, 마지막 적힌 수 만큼 공간을 분배한다.\n",
        "print(space)"
      ],
      "metadata": {
        "colab": {
          "base_uri": "https://localhost:8080/"
        },
        "id": "-jUPSnWXm3iB",
        "outputId": "8ba928d1-7fcf-4396-b834-3a6070c77b0b"
      },
      "execution_count": 27,
      "outputs": [
        {
          "output_type": "stream",
          "name": "stdout",
          "text": [
            "[ 1.   2.5  4.   5.5  7.   8.5 10. ]\n"
          ]
        }
      ]
    },
    {
      "cell_type": "code",
      "source": [
        "# np.reshape 행렬의 형태를 새로 바꿔주는 함수\n",
        "x = np.arange(1,16)\n",
        "print(x)\n",
        "print(x.shape)\n",
        "x_1 = x.reshape(3,5)\n",
        "print(x_1)\n",
        "print(x_1.shape)\n",
        "x_2 = x.reshape(3,5,1)\n",
        "print(x_2)"
      ],
      "metadata": {
        "colab": {
          "base_uri": "https://localhost:8080/"
        },
        "id": "oaA3nj5Yn0a2",
        "outputId": "7b9673c6-5add-43cc-ed3b-e8f2bb1494ac"
      },
      "execution_count": 31,
      "outputs": [
        {
          "output_type": "stream",
          "name": "stdout",
          "text": [
            "[ 1  2  3  4  5  6  7  8  9 10 11 12 13 14 15]\n",
            "(15,)\n",
            "[[ 1  2  3  4  5]\n",
            " [ 6  7  8  9 10]\n",
            " [11 12 13 14 15]]\n",
            "(3, 5)\n",
            "[[[ 1]\n",
            "  [ 2]\n",
            "  [ 3]\n",
            "  [ 4]\n",
            "  [ 5]]\n",
            "\n",
            " [[ 6]\n",
            "  [ 7]\n",
            "  [ 8]\n",
            "  [ 9]\n",
            "  [10]]\n",
            "\n",
            " [[11]\n",
            "  [12]\n",
            "  [13]\n",
            "  [14]\n",
            "  [15]]]\n"
          ]
        }
      ]
    },
    {
      "cell_type": "code",
      "source": [
        "# rand 함수 0~1사이의 uniform\n",
        "a = np.random.rand(2,3)\n",
        "print(a)\n",
        "b = np.random.rand(2,3,3)\n",
        "print(b)\n",
        "c = np.random.randint(1,100,size=(3,5)) # 정수를 샘플링할때 사용한다.\n",
        "print(c)"
      ],
      "metadata": {
        "colab": {
          "base_uri": "https://localhost:8080/"
        },
        "id": "RlDmGfwyrkGM",
        "outputId": "9ec4d5b5-3e66-4417-9cf2-9acc573761a0"
      },
      "execution_count": 34,
      "outputs": [
        {
          "output_type": "stream",
          "name": "stdout",
          "text": [
            "[[0.33067602 0.86678783 0.38417829]\n",
            " [0.93151619 0.11246496 0.95936984]]\n",
            "[[[0.04763956 0.03185318 0.27150109]\n",
            "  [0.70745719 0.12124239 0.82012583]\n",
            "  [0.57003342 0.55327701 0.49919551]]\n",
            "\n",
            " [[0.39201889 0.20366804 0.72677545]\n",
            "  [0.46224139 0.65052567 0.65337713]\n",
            "  [0.64872809 0.13449841 0.19261778]]]\n",
            "[[35  1 47 64 76]\n",
            " [40 79  4 89 41]\n",
            " [99 28 60 49 97]]\n"
          ]
        }
      ]
    },
    {
      "cell_type": "code",
      "source": [
        "#seed\n",
        "np.random.seed(100)\n",
        "np.random.randn(3,4)\n",
        "\n",
        "c = np.random.randint(1,100,size=(3,5))\n",
        "print(c)\n",
        "np.random.randn(3,4)"
      ],
      "metadata": {
        "colab": {
          "base_uri": "https://localhost:8080/"
        },
        "id": "iRXtysV5sIa6",
        "outputId": "de535129-faa8-426c-8127-f361d13893be"
      },
      "execution_count": 53,
      "outputs": [
        {
          "output_type": "stream",
          "name": "stdout",
          "text": [
            "[[84  5 92 60 68]\n",
            " [ 8 50 48 66 62]\n",
            " [15 56 72 81  3]]\n"
          ]
        },
        {
          "output_type": "execute_result",
          "data": {
            "text/plain": [
              "array([[ 0.78148842, -0.65438103,  0.04117247, -0.20191691],\n",
              "       [-0.87081315,  0.22893207, -0.40803994, -0.10392514],\n",
              "       [ 1.56717879,  0.49702472,  1.15587233,  1.83861168]])"
            ]
          },
          "metadata": {},
          "execution_count": 53
        }
      ]
    },
    {
      "cell_type": "code",
      "source": [
        "# choice (뽑기)\n",
        "x = np.random.choice(100,size=(3,4),replace=False)\n",
        "print(x)"
      ],
      "metadata": {
        "colab": {
          "base_uri": "https://localhost:8080/"
        },
        "id": "uQ8uWfhgtfvF",
        "outputId": "af962168-2ec3-415b-c1fa-997d2c15bf97"
      },
      "execution_count": 38,
      "outputs": [
        {
          "output_type": "stream",
          "name": "stdout",
          "text": [
            "[[41 27 67 95]\n",
            " [26  0 94 82]\n",
            " [49 10 91 62]]\n"
          ]
        }
      ]
    },
    {
      "cell_type": "code",
      "source": [
        "x = np.array([1,2,3,4,5,6,7,8])\n",
        "y = np.random.choice(x, size=(2,3),replace=False)\n",
        "print(y)"
      ],
      "metadata": {
        "colab": {
          "base_uri": "https://localhost:8080/"
        },
        "id": "poTMsQNytyGA",
        "outputId": "4fadc9fd-6e6b-4ecd-d373-385953d7b338"
      },
      "execution_count": 43,
      "outputs": [
        {
          "output_type": "stream",
          "name": "stdout",
          "text": [
            "[[3 6 5]\n",
            " [7 1 2]]\n"
          ]
        }
      ]
    },
    {
      "cell_type": "code",
      "source": [
        "#확률분포에 따른 ndarray\n",
        "np.random.standard_exponential(20)"
      ],
      "metadata": {
        "colab": {
          "base_uri": "https://localhost:8080/"
        },
        "id": "a4w1YaVNuS3L",
        "outputId": "1acfa4bb-fb1e-45ef-956d-d26cee7a46a3"
      },
      "execution_count": 44,
      "outputs": [
        {
          "output_type": "execute_result",
          "data": {
            "text/plain": [
              "array([2.37787966, 1.69016773, 1.27772707, 2.42551948, 0.10573781,\n",
              "       0.23584531, 1.72845073, 0.80230465, 1.31220454, 1.79073438,\n",
              "       1.96111291, 0.49491829, 0.59234518, 0.84770244, 2.85431049,\n",
              "       1.85626101, 1.29546573, 0.06754829, 2.11701372, 0.12389877])"
            ]
          },
          "metadata": {},
          "execution_count": 44
        }
      ]
    },
    {
      "cell_type": "code",
      "source": [
        "np.random.uniform(1.0, 3.0, size=(4,5))"
      ],
      "metadata": {
        "colab": {
          "base_uri": "https://localhost:8080/"
        },
        "id": "5S6OtwPJuZRp",
        "outputId": "a68c15f2-6e88-429c-c42b-c2eb6f4ce1ef"
      },
      "execution_count": 47,
      "outputs": [
        {
          "output_type": "execute_result",
          "data": {
            "text/plain": [
              "array([[2.8605298 , 2.44910684, 1.35291815, 2.47140344, 1.50848656],\n",
              "       [2.12852135, 2.83075563, 2.02600909, 1.33209587, 2.89901314],\n",
              "       [2.69278734, 1.42490179, 2.8787399 , 2.37931584, 1.03370565],\n",
              "       [1.94795539, 2.61156536, 2.52116882, 2.49223823, 1.87412959]])"
            ]
          },
          "metadata": {},
          "execution_count": 47
        }
      ]
    },
    {
      "cell_type": "code",
      "source": [
        "#인덱싱 --> 파이썬 리스트를 인덱스로 접근한다와 동일하다\n",
        "my_list = [1,2,3,4,5]\n",
        "print(my_list[0])\n",
        "#이런거를 numpy로 가져와서 사용하면?\n",
        "x = np.arange(10)\n",
        "print(x)\n",
        "print(x[0])\n",
        "print(x[2])\n",
        "print(x[-1])\n",
        "x[3] = 10000\n",
        "print(x)"
      ],
      "metadata": {
        "colab": {
          "base_uri": "https://localhost:8080/"
        },
        "id": "-qCak97ryILs",
        "outputId": "a5ccee10-6aaa-45fd-dd73-4f5a8865fab2"
      },
      "execution_count": 56,
      "outputs": [
        {
          "output_type": "stream",
          "name": "stdout",
          "text": [
            "1\n",
            "[0 1 2 3 4 5 6 7 8 9]\n",
            "0\n",
            "2\n",
            "9\n",
            "[    0     1     2 10000     4     5     6     7     8     9]\n"
          ]
        }
      ]
    },
    {
      "cell_type": "code",
      "source": [
        "x = np.arange(10).reshape(2,5)\n",
        "print(x)\n",
        "print(x[0])\n",
        "print(x[1])\n",
        "print(x[0][0])\n",
        "print(x[0][4])"
      ],
      "metadata": {
        "colab": {
          "base_uri": "https://localhost:8080/"
        },
        "id": "GcsAUINuywWa",
        "outputId": "f4ced37c-946f-400f-b8ab-3d40534b85ba"
      },
      "execution_count": 64,
      "outputs": [
        {
          "output_type": "stream",
          "name": "stdout",
          "text": [
            "[[0 1 2 3 4]\n",
            " [5 6 7 8 9]]\n",
            "[0 1 2 3 4]\n",
            "[5 6 7 8 9]\n",
            "0\n",
            "4\n"
          ]
        }
      ]
    },
    {
      "cell_type": "code",
      "source": [
        "x = np.arange(24).reshape(2,4,3)\n",
        "print(x)\n",
        "print(x[0,1,2])"
      ],
      "metadata": {
        "colab": {
          "base_uri": "https://localhost:8080/"
        },
        "id": "410uYIWczOIu",
        "outputId": "4c77d560-8774-4f08-936b-beb2ca967335"
      },
      "execution_count": 66,
      "outputs": [
        {
          "output_type": "stream",
          "name": "stdout",
          "text": [
            "[[[ 0  1  2]\n",
            "  [ 3  4  5]\n",
            "  [ 6  7  8]\n",
            "  [ 9 10 11]]\n",
            "\n",
            " [[12 13 14]\n",
            "  [15 16 17]\n",
            "  [18 19 20]\n",
            "  [21 22 23]]]\n",
            "5\n"
          ]
        }
      ]
    },
    {
      "cell_type": "code",
      "source": [
        "#슬라이싱 -> 인덱싱이랑 비슷, 차원 변경되지 x\n",
        "\n",
        "x = np.arange(10)\n",
        "print(x)\n",
        "print(x[1:])\n",
        "print(x[:4])\n",
        "print(x[1:7])\n",
        "print(\"-------------------\")\n",
        "#2차원 슬라이싱\n",
        "x = np.arange(10).reshape(2,5)\n",
        "print(x)\n",
        "print(x[1:2])\n",
        "print(x[:,1:4]) #모든 행,1~4까지 열"
      ],
      "metadata": {
        "colab": {
          "base_uri": "https://localhost:8080/"
        },
        "id": "pqNza7jHzyng",
        "outputId": "719d7ba6-2eb9-4e17-af76-aadaa33e2205"
      },
      "execution_count": 75,
      "outputs": [
        {
          "output_type": "stream",
          "name": "stdout",
          "text": [
            "[0 1 2 3 4 5 6 7 8 9]\n",
            "[1 2 3 4 5 6 7 8 9]\n",
            "[0 1 2 3]\n",
            "[1 2 3 4 5 6]\n",
            "-------------------\n",
            "[[0 1 2 3 4]\n",
            " [5 6 7 8 9]]\n",
            "[[5 6 7 8 9]]\n",
            "[[1 2 3]\n",
            " [6 7 8]]\n"
          ]
        }
      ]
    },
    {
      "cell_type": "code",
      "source": [
        "#3차원 슬라이싱\n",
        "x = np.arange(54).reshape(2,9,3)\n",
        "print(x)\n",
        "print(x[:1,:2,:]) #0~1행, 0~2열, 전부를 가져온다."
      ],
      "metadata": {
        "colab": {
          "base_uri": "https://localhost:8080/"
        },
        "id": "YeEChk-c1THc",
        "outputId": "c363ee40-7d51-4513-fac9-b859c53f4a66"
      },
      "execution_count": 76,
      "outputs": [
        {
          "output_type": "stream",
          "name": "stdout",
          "text": [
            "[[[ 0  1  2]\n",
            "  [ 3  4  5]\n",
            "  [ 6  7  8]\n",
            "  [ 9 10 11]\n",
            "  [12 13 14]\n",
            "  [15 16 17]\n",
            "  [18 19 20]\n",
            "  [21 22 23]\n",
            "  [24 25 26]]\n",
            "\n",
            " [[27 28 29]\n",
            "  [30 31 32]\n",
            "  [33 34 35]\n",
            "  [36 37 38]\n",
            "  [39 40 41]\n",
            "  [42 43 44]\n",
            "  [45 46 47]\n",
            "  [48 49 50]\n",
            "  [51 52 53]]]\n",
            "[[[0 1 2]\n",
            "  [3 4 5]]]\n"
          ]
        }
      ]
    },
    {
      "cell_type": "code",
      "source": [
        "# reshape / flatten / reavel\n",
        "# ravel\n",
        "# -> 다차원의 배열을 1차원으로 변경해준다.\n",
        "x = np.arange(15).reshape(5,3)\n",
        "print(x)\n",
        "print(x.ravel())\n",
        "print(np.ravel(x))\n",
        "\n",
        "#order\n",
        "print(x.ravel(order='F')) #colum 우선변경\n",
        "print(x.ravel(order='C')) #colum 우선변경"
      ],
      "metadata": {
        "colab": {
          "base_uri": "https://localhost:8080/"
        },
        "id": "pPV0I1_sOoDN",
        "outputId": "49372b37-011c-4e25-cadd-ea628da13a89"
      },
      "execution_count": 81,
      "outputs": [
        {
          "output_type": "stream",
          "name": "stdout",
          "text": [
            "[[ 0  1  2]\n",
            " [ 3  4  5]\n",
            " [ 6  7  8]\n",
            " [ 9 10 11]\n",
            " [12 13 14]]\n",
            "[ 0  1  2  3  4  5  6  7  8  9 10 11 12 13 14]\n",
            "[ 0  1  2  3  4  5  6  7  8  9 10 11 12 13 14]\n",
            "[ 0  3  6  9 12  1  4  7 10 13  2  5  8 11 14]\n",
            "[ 0  1  2  3  4  5  6  7  8  9 10 11 12 13 14]\n"
          ]
        }
      ]
    },
    {
      "cell_type": "code",
      "source": [
        "#flatten #다차원의 배열을 1차원\n",
        "y = np.arange(15).reshape(3,5)\n",
        "print(y)\n",
        "print(y.flatten())\n",
        "print(y.flatten(order=\"C\"))\n",
        "print(y.flatten(order=\"F\")) "
      ],
      "metadata": {
        "colab": {
          "base_uri": "https://localhost:8080/"
        },
        "id": "GM51EiuNPeLK",
        "outputId": "07d4d17b-5ba3-41e6-e16d-5c816c9b8d21"
      },
      "execution_count": 84,
      "outputs": [
        {
          "output_type": "stream",
          "name": "stdout",
          "text": [
            "[[ 0  1  2  3  4]\n",
            " [ 5  6  7  8  9]\n",
            " [10 11 12 13 14]]\n",
            "[ 0  1  2  3  4  5  6  7  8  9 10 11 12 13 14]\n",
            "[ 0  1  2  3  4  5  6  7  8  9 10 11 12 13 14]\n",
            "[ 0  5 10  1  6 11  2  7 12  3  8 13  4  9 14]\n"
          ]
        }
      ]
    },
    {
      "cell_type": "code",
      "source": [
        "x = np.arange(15).reshape(3,5)\n",
        "temp = x.ravel()\n",
        "print(x)\n",
        "print(temp)\n",
        "temp[0]=10\n",
        "print(temp)"
      ],
      "metadata": {
        "colab": {
          "base_uri": "https://localhost:8080/"
        },
        "id": "vUdzyObKQD6Q",
        "outputId": "53cd04fc-3320-4f9e-e11d-dfe775f8ffd1"
      },
      "execution_count": 88,
      "outputs": [
        {
          "output_type": "stream",
          "name": "stdout",
          "text": [
            "[[ 0  1  2  3  4]\n",
            " [ 5  6  7  8  9]\n",
            " [10 11 12 13 14]]\n",
            "[ 0  1  2  3  4  5  6  7  8  9 10 11 12 13 14]\n",
            "[10  1  2  3  4  5  6  7  8  9 10 11 12 13 14]\n"
          ]
        }
      ]
    },
    {
      "cell_type": "code",
      "source": [
        "x = np.arange(36)\n",
        "print(x)\n",
        "print(x.shape)\n",
        "print(x.ndim)\n",
        "t = x.reshape(6,6)\n",
        "print(t)"
      ],
      "metadata": {
        "colab": {
          "base_uri": "https://localhost:8080/"
        },
        "id": "V1Uemp_brJ_X",
        "outputId": "e564f6c9-1b8f-40e2-f6ea-e5480ce5be88"
      },
      "execution_count": 91,
      "outputs": [
        {
          "output_type": "stream",
          "name": "stdout",
          "text": [
            "[ 0  1  2  3  4  5  6  7  8  9 10 11 12 13 14 15 16 17 18 19 20 21 22 23\n",
            " 24 25 26 27 28 29 30 31 32 33 34 35]\n",
            "(36,)\n",
            "1\n",
            "[[ 0  1  2  3  4  5]\n",
            " [ 6  7  8  9 10 11]\n",
            " [12 13 14 15 16 17]\n",
            " [18 19 20 21 22 23]\n",
            " [24 25 26 27 28 29]\n",
            " [30 31 32 33 34 35]]\n"
          ]
        }
      ]
    },
    {
      "cell_type": "code",
      "source": [
        "m = np.arange(15).reshape(3,5)\n",
        "n = np.random.rand(15).reshape(3,5)\n",
        "print(m)\n",
        "print(n)\n",
        "np.add(m,n)\n",
        "np.subtract(m,n)\n",
        "np.multiply(m,n)\n",
        "np.divide(m,n)"
      ],
      "metadata": {
        "colab": {
          "base_uri": "https://localhost:8080/"
        },
        "id": "qTu8wbZDra2Q",
        "outputId": "a67599c7-2be0-4bdf-a28e-b877b13568b4"
      },
      "execution_count": 97,
      "outputs": [
        {
          "output_type": "stream",
          "name": "stdout",
          "text": [
            "[[ 0  1  2  3  4]\n",
            " [ 5  6  7  8  9]\n",
            " [10 11 12 13 14]]\n",
            "[[0.46060162 0.69616156 0.5003559  0.71607099 0.52595594]\n",
            " [0.00139902 0.39470029 0.49216697 0.40288033 0.3542983 ]\n",
            " [0.50061432 0.44517663 0.09043279 0.27356292 0.9434771 ]]\n"
          ]
        },
        {
          "output_type": "execute_result",
          "data": {
            "text/plain": [
              "array([[0.00000000e+00, 1.43644816e+00, 3.99715485e+00, 4.18952875e+00,\n",
              "        7.60519984e+00],\n",
              "       [3.57392235e+03, 1.52014078e+01, 1.42228155e+01, 1.98570131e+01,\n",
              "        2.54023234e+01],\n",
              "       [1.99754574e+01, 2.47092935e+01, 1.32695234e+02, 4.75210602e+01,\n",
              "        1.48387280e+01]])"
            ]
          },
          "metadata": {},
          "execution_count": 97
        }
      ]
    },
    {
      "cell_type": "code",
      "source": [
        "y = np.random.rand(15).reshape(3,5)\n",
        "print(y)\n",
        "print(np.mean(y))\n",
        "print(np.max(y))\n",
        "print(np.argmax(y))\n",
        "print(np.var(y)) #분산도 얻을수잇다\n",
        "print(np.median(y)) #평균\n",
        "print(np.std(y)) #표준편차\n",
        "print(np.sum(y))\n",
        "print(np.cumsum(y)) #누적합계"
      ],
      "metadata": {
        "colab": {
          "base_uri": "https://localhost:8080/"
        },
        "id": "LXr3eGtSr75W",
        "outputId": "0faf41af-b019-43e0-b335-5230df301a32"
      },
      "execution_count": 108,
      "outputs": [
        {
          "output_type": "stream",
          "name": "stdout",
          "text": [
            "[[0.04652717 0.33253591 0.94455279 0.63651704 0.60184861]\n",
            " [0.92818468 0.18167941 0.01782318 0.19007218 0.5218718 ]\n",
            " [0.49582199 0.80049121 0.85943631 0.21295603 0.43726884]]\n",
            "0.4805058092968907\n",
            "0.9445527910270574\n",
            "2\n",
            "0.09161021718579829\n",
            "0.49582198590367044\n",
            "0.302671797803823\n",
            "7.20758713945336\n",
            "[0.04652717 0.37906307 1.32361587 1.96013291 2.56198151 3.49016619\n",
            " 3.6718456  3.68966879 3.87974097 4.40161276 4.89743475 5.69792595\n",
            " 6.55736227 6.7703183  7.20758714]\n"
          ]
        }
      ]
    },
    {
      "cell_type": "code",
      "source": [
        "# any all\n",
        "# any -> OR\n",
        "# all -> AND\n",
        "z = np.random.randn(10)\n",
        "print(z)\n",
        "print(z > 0)\n",
        "print(np.any(z>0)) #1개 원소 이상이 0보다 크냐\n",
        "print(np.all(z>0)) #모든 원소가 0보다 크냐 "
      ],
      "metadata": {
        "colab": {
          "base_uri": "https://localhost:8080/"
        },
        "id": "ybBi-3V_sti4",
        "outputId": "8b079c59-cfff-4126-a73b-5e406c6e0235"
      },
      "execution_count": 113,
      "outputs": [
        {
          "output_type": "stream",
          "name": "stdout",
          "text": [
            "[-0.29843567 -0.40228992 -0.53664043  0.8231244   0.0251919   1.51753613\n",
            "  0.36961115 -0.48063216  1.04233274  1.09887599]\n",
            "[False False False  True  True  True  True False  True  True]\n",
            "True\n",
            "False\n"
          ]
        }
      ]
    },
    {
      "cell_type": "code",
      "source": [
        "# where\n",
        "# 조건에 따라 선택적으로 값을 추출/선택\n",
        "t = np.random.randn(10)\n",
        "print(t)\n",
        "print(np.where(t>0, t, 0))\n",
        "print(np.where(t>1.2, t, 1))"
      ],
      "metadata": {
        "colab": {
          "base_uri": "https://localhost:8080/"
        },
        "id": "7uK2wic_s0pF",
        "outputId": "fce98d0c-c13a-436d-82b2-3f5594540419"
      },
      "execution_count": 114,
      "outputs": [
        {
          "output_type": "stream",
          "name": "stdout",
          "text": [
            "[-2.13291037  0.75920433 -0.28518087  0.48041141  0.46800069  2.70900195\n",
            "  2.01908612  0.74740342 -0.58970859 -0.81342482]\n",
            "[0.         0.75920433 0.         0.48041141 0.46800069 2.70900195\n",
            " 2.01908612 0.74740342 0.         0.        ]\n",
            "[1.         1.         1.         1.         1.         2.70900195\n",
            " 2.01908612 1.         1.         1.        ]\n"
          ]
        }
      ]
    },
    {
      "cell_type": "code",
      "source": [
        "# Axis\n",
        "# 축 -> 함수에서 axis가 존재 할 경우 -> 축을 따라서 진행한다.\n",
        "x = np.arange(15).reshape(3,5)\n",
        "print(x)\n",
        "print(np.sum(x))\n",
        "print(np.sum(x,axis=0)) #2차원 배열일때는 위에서 아래로 더해준다 0+5+10\n",
        "print(np.sum(x,axis=1)) "
      ],
      "metadata": {
        "colab": {
          "base_uri": "https://localhost:8080/"
        },
        "id": "tO_ylKZ055Sq",
        "outputId": "ba35c834-eb64-40cf-e348-c3d560c7e365"
      },
      "execution_count": 119,
      "outputs": [
        {
          "output_type": "stream",
          "name": "stdout",
          "text": [
            "[[ 0  1  2  3  4]\n",
            " [ 5  6  7  8  9]\n",
            " [10 11 12 13 14]]\n",
            "105\n",
            "[15 18 21 24 27]\n",
            "[10 35 60]\n"
          ]
        }
      ]
    },
    {
      "cell_type": "code",
      "source": [
        "y = np.arange(30).reshape(2,3,5) #3x5 행렬이 2개 생성된다.\n",
        "print(y)\n",
        "print(\"----------------\")\n",
        "print(np.sum(y))\n",
        "print(\"----------------\")\n",
        "print(np.sum(y,axis=0))\n",
        "print(\"----------------\")\n",
        "print(np.sum(y,axis=1))\n",
        "print(\"----------------\")\n",
        "print(np.sum(y,axis=2))\n",
        "print(\"----------------\")\n",
        "#plot -> axis 어떻게 지정해라\n",
        "#계산하는 lib -> axis 어떻게 지정해라"
      ],
      "metadata": {
        "colab": {
          "base_uri": "https://localhost:8080/"
        },
        "id": "mqbgJGdh6mQu",
        "outputId": "8c06bd67-748c-4207-aa74-760574eedc2c"
      },
      "execution_count": 125,
      "outputs": [
        {
          "output_type": "stream",
          "name": "stdout",
          "text": [
            "[[[ 0  1  2  3  4]\n",
            "  [ 5  6  7  8  9]\n",
            "  [10 11 12 13 14]]\n",
            "\n",
            " [[15 16 17 18 19]\n",
            "  [20 21 22 23 24]\n",
            "  [25 26 27 28 29]]]\n",
            "435\n",
            "----------------\n",
            "[[15 17 19 21 23]\n",
            " [25 27 29 31 33]\n",
            " [35 37 39 41 43]]\n",
            "----------------\n",
            "[[15 18 21 24 27]\n",
            " [60 63 66 69 72]]\n",
            "----------------\n",
            "[[ 10  35  60]\n",
            " [ 85 110 135]]\n",
            "----------------\n"
          ]
        }
      ]
    },
    {
      "cell_type": "code",
      "source": [
        "#Broadcasting\n",
        "#shape이 다른 두 행렬을 연산\n",
        "x = np.arange(15).reshape(3,5)\n",
        "y = np.arange(15).reshape(3,5)\n",
        "print(x-y)\n",
        "print(x+1)"
      ],
      "metadata": {
        "colab": {
          "base_uri": "https://localhost:8080/"
        },
        "id": "ijyNA_-L7Y_P",
        "outputId": "c819a0ee-3507-4c1f-a53f-7c91bc31ea85"
      },
      "execution_count": 129,
      "outputs": [
        {
          "output_type": "stream",
          "name": "stdout",
          "text": [
            "[[0 0 0 0 0]\n",
            " [0 0 0 0 0]\n",
            " [0 0 0 0 0]]\n",
            "[[ 1  2  3  4  5]\n",
            " [ 6  7  8  9 10]\n",
            " [11 12 13 14 15]]\n"
          ]
        }
      ]
    },
    {
      "cell_type": "code",
      "source": [
        "a = np.arange(12).reshape(4,3) #4x3\n",
        "b = np.arange(100,103)         #1x3\n",
        "c = np.arange(1000,1004)       #1x4\n",
        "print(a)\n",
        "print(b)\n",
        "print(a+b)"
      ],
      "metadata": {
        "colab": {
          "base_uri": "https://localhost:8080/"
        },
        "id": "__Cpjb5u74z-",
        "outputId": "97010e34-88de-4deb-82aa-12e63baf45d7"
      },
      "execution_count": 132,
      "outputs": [
        {
          "output_type": "stream",
          "name": "stdout",
          "text": [
            "[[ 0  1  2]\n",
            " [ 3  4  5]\n",
            " [ 6  7  8]\n",
            " [ 9 10 11]]\n",
            "[100 101 102]\n",
            "[[100 102 104]\n",
            " [103 105 107]\n",
            " [106 108 110]\n",
            " [109 111 113]]\n"
          ]
        }
      ]
    },
    {
      "cell_type": "code",
      "source": [
        "#Boolean index\n",
        "#ndarray 인덱싱 -> bool 리스트를 같이 전달 -> True\n",
        "a = np.random.randint(1,100,size=10)\n",
        "print(a)\n",
        "event_mask = a%2 == 0\n",
        "print(event_mask)"
      ],
      "metadata": {
        "colab": {
          "base_uri": "https://localhost:8080/"
        },
        "id": "Ug4WP1C98cle",
        "outputId": "6d19df85-9d35-4431-aec5-d7a4badf1548"
      },
      "execution_count": 135,
      "outputs": [
        {
          "output_type": "stream",
          "name": "stdout",
          "text": [
            "[ 9 94  8 54 37 65 35  5 13 41]\n",
            "[False  True  True  True False False False False False False]\n"
          ]
        }
      ]
    },
    {
      "cell_type": "code",
      "source": [
        "#다중 조건문\n",
        "#any all, AND OR\n",
        "# & , |\n",
        "a = np.random.randint(1,100,size=10)\n",
        "print(a)\n",
        "print(a[(a<30) | (a>50)])\n",
        "print(a[(a%2 == 0) & (a > 30)])"
      ],
      "metadata": {
        "colab": {
          "base_uri": "https://localhost:8080/"
        },
        "id": "BTF62b2V88MM",
        "outputId": "3cba9d4b-0795-4357-a706-f9717d6022c9"
      },
      "execution_count": 136,
      "outputs": [
        {
          "output_type": "stream",
          "name": "stdout",
          "text": [
            "[35 94 97 16 83 13 86 24 68 61]\n",
            "[94 97 16 83 13 86 24 68 61]\n",
            "[94 86 68]\n"
          ]
        }
      ]
    },
    {
      "cell_type": "code",
      "source": [
        "# 31일 중, 평균기온이 25도를 넘는 날의 수?\n",
        "# 넘는 날들의 평균 기온은?\n",
        "month_temp = np.random.uniform(10.0, 35.0, size=(1,31))\n",
        "print(month_temp)\n",
        "len(month_temp[month_temp>25.0])"
      ],
      "metadata": {
        "colab": {
          "base_uri": "https://localhost:8080/"
        },
        "id": "M3uk2hcN9Ebg",
        "outputId": "b88b6edf-7868-474a-e0fb-91076f977177"
      },
      "execution_count": 140,
      "outputs": [
        {
          "output_type": "stream",
          "name": "stdout",
          "text": [
            "[[21.27193691 18.24252446 22.33780105 13.59002463 13.77300727 30.38346449\n",
            "  15.28204709 12.16355806 19.68143544 32.33508535 20.71608245 29.1576003\n",
            "  34.88163505 10.50157127 12.70495572 27.36856679 32.26660126 22.31190809\n",
            "  11.75669976 12.21093411 12.65520396 15.03147196 31.93410013 33.58056256\n",
            "  13.39090345 31.46817432 28.92895706 27.15429036 31.40983475 15.77194382\n",
            "  22.98344948]]\n"
          ]
        },
        {
          "output_type": "execute_result",
          "data": {
            "text/plain": [
              "12"
            ]
          },
          "metadata": {},
          "execution_count": 140
        }
      ]
    },
    {
      "cell_type": "code",
      "source": [
        "import numpy as np\n",
        "import matplotlib.pyplot as plt\n",
        "%matplotlib inline"
      ],
      "metadata": {
        "id": "WYiPl9I_9qJ0"
      },
      "execution_count": 141,
      "outputs": []
    },
    {
      "cell_type": "code",
      "source": [
        "x = np.linspace(0,10,11)\n",
        "print(x)\n",
        "y = x**2 + x + 2 + np.random.randn(11)\n",
        "print(y)\n",
        "\n",
        "plt.xlabel(\"x value\")\n",
        "plt.ylabel(\"y value\")\n",
        "plt.plot(x,y)\n",
        "plt.scatter(x,y)"
      ],
      "metadata": {
        "colab": {
          "base_uri": "https://localhost:8080/",
          "height": 366
        },
        "id": "502infbM9z15",
        "outputId": "e13c9d40-c742-4c70-85c3-5a7443fe29a6"
      },
      "execution_count": 149,
      "outputs": [
        {
          "output_type": "stream",
          "name": "stdout",
          "text": [
            "[ 0.  1.  2.  3.  4.  5.  6.  7.  8.  9. 10.]\n",
            "[  1.3630331    3.75555994   8.05455702  13.1328103   19.72548327\n",
            "  31.95012207  43.81090242  57.81113324  74.02521447  90.63165244\n",
            " 110.96020436]\n"
          ]
        },
        {
          "output_type": "execute_result",
          "data": {
            "text/plain": [
              "<matplotlib.collections.PathCollection at 0x7fe52f813790>"
            ]
          },
          "metadata": {},
          "execution_count": 149
        },
        {
          "output_type": "display_data",
          "data": {
            "text/plain": [
              "<Figure size 432x288 with 1 Axes>"
            ],
            "image/png": "[encoded data removed]"
          },
          "metadata": {
            "needs_background": "light"
          }
        }
      ]
    }
  ]
}