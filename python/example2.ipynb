{
  "nbformat": 4,
  "nbformat_minor": 0,
  "metadata": {
    "colab": {
      "name": "example2.ipynb",
      "provenance": [],
      "collapsed_sections": [],
      "authorship_tag": "ABX9TyPuj0U3+p+fvTvz3+wfWVJv",
      "include_colab_link": true
    },
    "kernelspec": {
      "name": "python3",
      "display_name": "Python 3"
    },
    "language_info": {
      "name": "python"
    }
  },
  "cells": [
    {
      "cell_type": "markdown",
      "metadata": {
        "id": "view-in-github",
        "colab_type": "text"
      },
      "source": [
        "<a href=\"https://colab.research.google.com/github/ytam1208/Googlecolab/blob/main/example2.ipynb\" target=\"_parent\"><img src=\"https://colab.research.google.com/assets/colab-badge.svg\" alt=\"Open In Colab\"/></a>"
      ]
    },
    {
      "cell_type": "code",
      "execution_count": null,
      "metadata": {
        "id": "sb-61XBRluG3"
      },
      "outputs": [],
      "source": [
        "data = 120\n",
        "\n",
        "if data >= 100:\n",
        "  print(\"데이터가 100보다 큽니다!\")\n",
        "else: #if문의 조건이 아닌 모든 경우\n",
        "  print(\"데이터 판별이 완료되었습니다.\")"
      ]
    },
    {
      "cell_type": "code",
      "source": [
        "#if/elif/else\n",
        "\n",
        "a = 10\n",
        "\n",
        "if a % 3 == 0:\n",
        "  print(\"a는 3으로 나누어 떨어집니다.\")\n",
        "elif a % 3 == 1:\n",
        "  print(\"a는 3으로 나누면 1이 남습니다.\")\n",
        "else:\n",
        "  print(\"a는 3으로 나누면 나머지가 존재합니다.\")\n",
        "\n",
        "b = 9\n",
        "c = 11\n",
        "if a == 10 and b == 9 and c == 11:\n",
        "  print(\"a는 10, b는 9, c는 11입니다.\")"
      ],
      "metadata": {
        "id": "uF78acIRuMYV"
      },
      "execution_count": null,
      "outputs": []
    },
    {
      "cell_type": "code",
      "source": [
        "my_list = [\"사과\", \"배\", \"딸기\", \"복숭아\"]\n",
        "cnt = 0\n",
        "\n",
        "while cnt < len(my_list):\n",
        "  print(my_list[cnt])\n",
        "  cnt = cnt + 1"
      ],
      "metadata": {
        "id": "PB9qswCRu97j"
      },
      "execution_count": null,
      "outputs": []
    },
    {
      "cell_type": "code",
      "source": [
        "# break\n",
        "# 조건을 거짓으로 만들어주는 것 외에도 loop 문을 빠져나올 수 있다.\n",
        "\n",
        "a = [1, 10, 9, 24, 25, 26, 31]\n",
        "\n",
        "cnt = 0\n",
        "while cnt < len(a):\n",
        "  if a[cnt] > 20:\n",
        "    print(a[cnt])\n",
        "    break;\n",
        "  cnt = cnt + 1\n"
      ],
      "metadata": {
        "id": "q4HQSBJdvaaD"
      },
      "execution_count": null,
      "outputs": []
    },
    {
      "cell_type": "code",
      "source": [
        "#continue\n",
        "#루프 하나를 생략\n",
        "\n",
        "a = 7\n",
        "\n",
        "while a > 0:\n",
        "  a = a - 1\n",
        "  if a == 5:\n",
        "    continue\n",
        "  print(a)\n",
        "\n",
        "num = 1\n",
        "summation = 0\n",
        "\n",
        "while num <= 100:\n",
        "  summation = summation + num\n",
        "  num = num + 1\n",
        "\n",
        "print (summation)"
      ],
      "metadata": {
        "id": "p8PQsjoPv0yO"
      },
      "execution_count": null,
      "outputs": []
    },
    {
      "cell_type": "code",
      "source": [
        "#for \n",
        "# 리스트, 문자열등등 순회 가능한 객체를 반복해서 처리할때 사용\n",
        "\n",
        "# 1. range() -> 시작, 종료, 진행순서\n",
        "# 2. list 순회 -> 시작, 종료를 알아서\n",
        "\n",
        "for i in range(0, 10, 1):\n",
        "  print(i)\n",
        "\n",
        "a = [100,200,300,400,500]\n",
        "for i in range(0, len(a)):\n",
        "  print(a[i])\n"
      ],
      "metadata": {
        "id": "LUsYlmDfwmUZ"
      },
      "execution_count": null,
      "outputs": []
    },
    {
      "cell_type": "code",
      "source": [
        "#list 순회\n",
        "\n",
        "a = [100, 200, 300, 400, 500]\n",
        "for data in a: # in 뒤에는 list가 a로 들어가고 data가 그것을 가져온다.\n",
        "  print(data)\n",
        "\n",
        "a_dict = {\n",
        "  \"korea\" : \"seoul\",\n",
        "  \"japen\" : \"tokyo\",\n",
        "  \"canada\": \"ottawa\",\n",
        "}\n",
        "print(\"-----------------\")\n",
        "for key in a_dict:\n",
        "  print(key, a_dict[key])\n",
        "print(\"-----------------\")\n",
        "for key in a_dict.keys():\n",
        "  print(key)\n",
        "print(\"-----------------\")\n",
        "for value in a_dict.values():\n",
        "  print(value)\n",
        "print(\"-----------------\")\n",
        "#key, value\n",
        "for k,v in a_dict.items():\n",
        "  print(k, \" - \", v)\n",
        "print(\"-----------------\")\n",
        "#1~100까지의 list를 만들것이다.\n",
        "a = []\n",
        "for i in range(1, 101):\n",
        "  a.append(i)\n",
        "print(a)\n",
        "print(\"-----------------\")\n",
        "a = list(range(1, 101))\n",
        "print(a)\n",
        "print(\"-----------------\")\n",
        "# 1~100 리스트 중에, 5의 배수만\n",
        "a = []\n",
        "for i in range(1, 101):\n",
        "  if i % 5 == 0:\n",
        "    a.append(i)\n",
        "print(a)\n",
        "print(\"-----------------\")\n",
        "a = list(range(1,101))\n",
        "print(a)"
      ],
      "metadata": {
        "id": "mCEECdXoxUF8"
      },
      "execution_count": null,
      "outputs": []
    }
  ]
}