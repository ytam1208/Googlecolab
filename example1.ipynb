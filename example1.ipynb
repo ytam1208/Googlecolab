{
  "nbformat": 4,
  "nbformat_minor": 0,
  "metadata": {
    "colab": {
      "name": "example1.ipynb",
      "provenance": [],
      "collapsed_sections": [],
      "authorship_tag": "ABX9TyPNFxl4XXOUcj0wiyNAiL0g",
      "include_colab_link": true
    },
    "kernelspec": {
      "name": "python3",
      "display_name": "Python 3"
    },
    "language_info": {
      "name": "python"
    }
  },
  "cells": [
    {
      "cell_type": "markdown",
      "metadata": {
        "id": "view-in-github",
        "colab_type": "text"
      },
      "source": [
        "<a href=\"https://colab.research.google.com/github/ytam1208/Googlecolab/blob/main/example1.ipynb\" target=\"_parent\"><img src=\"https://colab.research.google.com/assets/colab-badge.svg\" alt=\"Open In Colab\"/></a>"
      ]
    },
    {
      "cell_type": "code",
      "execution_count": 5,
      "metadata": {
        "colab": {
          "base_uri": "https://localhost:8080/"
        },
        "id": "3wYqtj3JYSRe",
        "outputId": "05780c5d-3b39-4e59-8b30-ccc48ca89d62"
      },
      "outputs": [
        {
          "output_type": "stream",
          "name": "stdout",
          "text": [
            "you and me!\n",
            "you and me and you!\n",
            "you and me!\n"
          ]
        }
      ],
      "source": [
        "#MAC RUN COMMAND -> Command + enter\n",
        "#print(\"hello python!\")\n",
        "\n",
        "#sep\n",
        "#print(\"h\",\"e\",\"l\",\"l\",\"o\", sep=\"\")\n",
        "#print(\"2021\",\"1\",\"1\",sep=\"-\")\n",
        "\n",
        "#end\n",
        "# print(\"Welcom!\", end=\"\")\n",
        "# print(\"Welcom?\", end=\"\")\n",
        "# print(\"welcome!\")\n",
        "# print(\"welcome!\")\n",
        "\n",
        "#format\n",
        "# print(\"{} and {}!\".format(\"you\",\"me\"))\n",
        "# print(\"{0} and {1} and {0}!\".format(\"you\",\"me\"))\n",
        "# print(\"{a} and {b}!\".format(a = \"you\", b = \"me\"))"
      ]
    }
  ]
}