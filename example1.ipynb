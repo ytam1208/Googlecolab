{
  "nbformat": 4,
  "nbformat_minor": 0,
  "metadata": {
    "colab": {
      "name": "example1.ipynb",
      "provenance": [],
      "collapsed_sections": [],
      "authorship_tag": "ABX9TyN9R4iMwmu5F6VaeT/MEijR",
      "include_colab_link": true
    },
    "kernelspec": {
      "name": "python3",
      "display_name": "Python 3"
    },
    "language_info": {
      "name": "python"
    }
  },
  "cells": [
    {
      "cell_type": "markdown",
      "metadata": {
        "id": "view-in-github",
        "colab_type": "text"
      },
      "source": [
        "<a href=\"https://colab.research.google.com/github/ytam1208/Googlecolab/blob/main/example1.ipynb\" target=\"_parent\"><img src=\"https://colab.research.google.com/assets/colab-badge.svg\" alt=\"Open In Colab\"/></a>"
      ]
    },
    {
      "cell_type": "code",
      "execution_count": 9,
      "metadata": {
        "id": "3wYqtj3JYSRe"
      },
      "outputs": [],
      "source": [
        "#MAC RUN COMMAND -> Command + enter\n",
        "#print(\"hello python!\")\n",
        "\n",
        "#sep\n",
        "#print(\"h\",\"e\",\"l\",\"l\",\"o\", sep=\"\")\n",
        "#print(\"2021\",\"1\",\"1\",sep=\"-\")\n",
        "\n",
        "#end\n",
        "# print(\"Welcom!\", end=\"\")\n",
        "# print(\"Welcom?\", end=\"\")\n",
        "# print(\"welcome!\")\n",
        "# print(\"welcome!\")\n",
        "\n",
        "format\n",
        "print(\"{} and {}!\".format(\"you\",\"me\"))\n",
        "print(\"{0} and {1} and {0}!\".format(\"you\",\"me\"))\n",
        "print(\"{a} and {b}!\".format(a = \"you\", b = \"me\"))"
      ]
    },
    {
      "cell_type": "code",
      "source": [
        "#Boolean\n",
        "#my_bool = True\n",
        "#your_bool = False\n",
        "\n",
        "#print(my_bool, your_bool)\n",
        "\n",
        "a=100\n",
        "b=200\n",
        "\n",
        "print(a > b)\n",
        "print(a < b)\n",
        "print(a >= b)\n",
        "print(a <= b)\n",
        "print(a == b)\n",
        "print (a != b)"
      ],
      "metadata": {
        "id": "2T20QCYsc5r0"
      },
      "execution_count": null,
      "outputs": []
    },
    {
      "cell_type": "code",
      "source": [
        "# string\n",
        "my_name = \"min\"\n",
        "your_name = \"tae\"\n",
        "\n",
        "print(my_name)\n",
        "print(len(your_name))\n",
        "\n",
        "my_multi = \"\"\"\n",
        "이래도\n",
        "출력이\n",
        "될까?\n",
        "\"\"\"\n",
        "print(my_multi)\n",
        "\n",
        "a = \"testword\"\n",
        "b = \"gamza\"\n",
        "\n",
        "print(a.islower())      #a가 모두 소문자냐?\n",
        "print(b.endswith('a'))  #끝 문자가 뭐로 끝나냐?\n",
        "print(a.capitalize())   #맨 왼쪽 문자를 대문자로 바꿔준다\n",
        "print(b.replace(\"g\", \"n\")) #문자를 바꿔준다 a->b"
      ],
      "metadata": {
        "id": "vvooN3GHeThk"
      },
      "execution_count": null,
      "outputs": []
    },
    {
      "cell_type": "code",
      "source": [
        "# List\n",
        "# 배열, 나열된 데이터, 데이터 모음\n",
        "# a = []\n",
        "# b = list()\n",
        "# my_company = [\"google\", \"apple\", \"LG\"]\n",
        "# my_number = [1,2,3,4,5]\n",
        "\n",
        "# # 인덱스 --> 각 값에 대한 위치정보\n",
        "# # 시작이 0부터\n",
        "# print(my_company)\n",
        "# print(my_company[1])\n",
        "\n",
        "# print(my_company + my_number)\n",
        "# my_company += my_number\n",
        "# print(my_company * 2)\n",
        "\n",
        "# my_company[0] = \"한양\"\n",
        "# print(my_company)\n",
        "# del my_company[0]\n",
        "# print(my_company)\n",
        "\n",
        "y = [5,2,3,1,4]\n",
        "print(y)\n",
        "\n",
        "y.append(7)\n",
        "print(y)\n",
        "\n",
        "y.sort()\n",
        "print(y)\n",
        "\n",
        "y.reverse()\n",
        "print(y)\n",
        "\n",
        "y.remove(2)\n",
        "print(y)\n",
        "\n",
        "x = [100, 200]\n",
        "y.extend(x)   # append와의 차이점은 append는 list 조차도 복사해놓는 부분에서 다르다.\n",
        "print(y)\n",
        "\n",
        "y.append(x)\n",
        "print(y)"
      ],
      "metadata": {
        "id": "hQ3eP62AekNk"
      },
      "execution_count": null,
      "outputs": []
    },
    {
      "cell_type": "code",
      "source": [
        "# Tuple\n",
        "# 리스트와 동일함 -> 수정/삭제가 불가능함\n",
        "\n",
        "v_tuple = 1, 5, 7\n",
        "a = ()\n",
        "b = (1,)\n",
        "c = (1,2,3,4)\n",
        "\n",
        "print(a)\n",
        "print(b)\n",
        "print(c)\n",
        "print(c[1])\n",
        "#튜플에다가는 보통 변경되지 않는 데이터들을 집어넣는다."
      ],
      "metadata": {
        "id": "Bn4Eyr4XhXK9"
      },
      "execution_count": null,
      "outputs": []
    },
    {
      "cell_type": "code",
      "source": [
        "# Dictionary\n",
        "# Dict\n",
        "# List [] tuple () dict {}\n",
        "a = dict()\n",
        "b = {}\n",
        "\n",
        "#key, value로 이루어져 있다.\n",
        "my_data = {\n",
        "    \"name\" : \"홍킬동\",\n",
        "    \"age\" : 20,\n",
        "}\n",
        "print(my_data)\n",
        "print(my_data['name'])\n",
        "print(my_data['age'])\n",
        "#print(my_data['phone'])                  #error\n",
        "print(my_data.get('phone'))              #python에서 none은 없다.\n",
        "print(my_data.get('name'))\n",
        "print(my_data.get(\"address\", \"한양대학교\")) #있으면 address 없으면 뒤에 한양대학교가 나오는 식으로도 사용가능하다.\n",
        "\n",
        "my_data['city'] = \"성남\"                  #dic에 값을 추가하는 방법이다.\n",
        "print(my_data)\n",
        "\n",
        "#함수\n",
        "print(my_data.keys())                   #딕셔너리에 있는 키 값만\n",
        "print(list(my_data.keys()))\n",
        "print(my_data.values())                 #딕셔너리에 있는 값만 \n",
        "print(list(my_data.values()))\n",
        "\n",
        "print(my_data.items())                  #모든 데이터 출력하고 싶을때"
      ],
      "metadata": {
        "id": "uVqaGMuViSOb"
      },
      "execution_count": null,
      "outputs": []
    },
    {
      "cell_type": "code",
      "source": [
        "#set 자료형\n",
        "#집합\n",
        "#중복 x\n",
        "#순서가 상관 x\n",
        "\n",
        "a = set()\n",
        "b = set([1,2,3,4,5])\n",
        "c = set([4,5,6,7,8,9])\n",
        "\n",
        "print(type(a))\n",
        "print(tuple(b))\n",
        "\n",
        "print(b & c)\n",
        "print(b | c)\n",
        "print(b - c)\n",
        "print(c - b)\n",
        "\n",
        "b.add(100)\n",
        "b.remove(4)\n",
        "print(b)"
      ],
      "metadata": {
        "id": "FyKGKFS0kPQI"
      },
      "execution_count": null,
      "outputs": []
    }
  ]
}