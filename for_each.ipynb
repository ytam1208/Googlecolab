{
  "nbformat": 4,
  "nbformat_minor": 0,
  "metadata": {
    "colab": {
      "name": "for_each.ipynb",
      "provenance": [],
      "collapsed_sections": [],
      "authorship_tag": "ABX9TyN5fpFqSvfHz1RyrXqdLvhx",
      "include_colab_link": true
    },
    "kernelspec": {
      "name": "python3",
      "display_name": "Python 3"
    },
    "language_info": {
      "name": "python"
    }
  },
  "cells": [
    {
      "cell_type": "markdown",
      "metadata": {
        "id": "view-in-github",
        "colab_type": "text"
      },
      "source": [
        "<a href=\"https://colab.research.google.com/github/ytam1208/Googlecolab/blob/main/for_each.ipynb\" target=\"_parent\"><img src=\"https://colab.research.google.com/assets/colab-badge.svg\" alt=\"Open In Colab\"/></a>"
      ]
    },
    {
      "cell_type": "code",
      "execution_count": 19,
      "metadata": {
        "colab": {
          "base_uri": "https://localhost:8080/"
        },
        "id": "M8tG3ucxYKAn",
        "outputId": "fd7b78eb-ba8c-4c5b-92a8-607d7a8dbac6"
      },
      "outputs": [
        {
          "output_type": "stream",
          "name": "stdout",
          "text": [
            "Overwriting main.cpp\n"
          ]
        }
      ],
      "source": [
        "%%writefile main.cpp\n",
        "#include <iostream>\n",
        "#include <algorithm>\n",
        "#include <vector>\n",
        "\n",
        "void myfunction(int i){\n",
        "    std::cout << ' ' << i;\n",
        "\n",
        "}\n",
        "\n",
        "int main()\n",
        "{\n",
        "\n",
        "    std::vector<int> myvector;\n",
        "    myvector.push_back(10);\n",
        "    myvector.push_back(20);\n",
        "    myvector.push_back(30);\n",
        "\n",
        "    /////일반적인 함수 포인터 전달/////\n",
        "    std::cout << \"myvector contains: \";\n",
        "    for_each(myvector.begin(), myvector.end(), myfunction);\n",
        "    std::cout << std::endl;\n",
        " \n",
        "\n",
        "    /////람다 함수를 전달/////\n",
        "    std::cout << \"myvector contaoins: \";\n",
        "    for_each(myvector.begin(), myvector.end(), [](const int& n){\n",
        "        std::cout << ' ' << n;\n",
        "    });\n",
        "    std::cout << std::endl;\n",
        " \n",
        "    /////람다 함수를 활용한 변수 포인터 접근/////\n",
        "    int sum = 0;\n",
        "    std::cout << \"myvector contaoins: \";\n",
        "    for_each(myvector.begin(), myvector.end(), [&sum](const int& n){\n",
        "        sum += n;\n",
        "        std::cout << ' ' << n;\n",
        "    });\n",
        "    std::cout << std::endl;   \n",
        "    std::cout << sum << std::endl;\n",
        " \n",
        "   return 0;\n",
        "}"
      ]
    },
    {
      "cell_type": "code",
      "source": [
        "%%shell\n",
        "g++ main.cpp -o main\n",
        "./main"
      ],
      "metadata": {
        "colab": {
          "base_uri": "https://localhost:8080/"
        },
        "id": "iFKidMQhYSC5",
        "outputId": "558d265b-8ec0-4162-a2cd-6636c3ba2cee"
      },
      "execution_count": 20,
      "outputs": [
        {
          "output_type": "stream",
          "name": "stdout",
          "text": [
            "myvector contains:  10 20 30\n",
            "myvector contaoins:  10 20 30\n",
            "myvector contaoins:  10 20 30\n",
            "60\n"
          ]
        },
        {
          "output_type": "execute_result",
          "data": {
            "text/plain": [
              ""
            ]
          },
          "metadata": {},
          "execution_count": 20
        }
      ]
    },
    {
      "cell_type": "code",
      "source": [
        "%%writefile main.cpp\n",
        "#include <iostream>\n",
        "#include <algorithm>\n",
        "#include <vector>\n",
        "\n",
        "void myfunction(int i){\n",
        "    std::cout << ' ' << i;\n",
        "\n",
        "}\n",
        "\n",
        "int main()\n",
        "{\n",
        "\n",
        "    std::vector<int> myvector;\n",
        "    myvector.push_back(10);\n",
        "    myvector.push_back(20);\n",
        "    myvector.push_back(30);\n",
        "\n",
        "    /////일반적인 함수 포인터 전달/////\n",
        "    std::cout << \"myvector contains: \";\n",
        "    for_each(myvector.begin(), myvector.end(), myfunction);\n",
        "    std::cout << std::endl;\n",
        "  \n",
        "    std::vector<int>::iterator iter;\n",
        "    iter = myvector.begin();\n",
        "    //////std::cout << *iter << std::endl;\n",
        " \n",
        "    while(iter != myvector.end()){\n",
        "        std::cout << *iter << std::endl;\n",
        "        ++iter;\n",
        "    }\n",
        "\n",
        "   return 0;\n",
        "}"
      ],
      "metadata": {
        "colab": {
          "base_uri": "https://localhost:8080/"
        },
        "id": "QypMEN6WbZqS",
        "outputId": "0545f28c-6fb6-4789-b84f-e24e86be6c37"
      },
      "execution_count": 41,
      "outputs": [
        {
          "output_type": "stream",
          "name": "stdout",
          "text": [
            "Overwriting main.cpp\n"
          ]
        }
      ]
    },
    {
      "cell_type": "code",
      "source": [
        "%%shell\n",
        "g++ main.cpp -o main\n",
        "./main"
      ],
      "metadata": {
        "colab": {
          "base_uri": "https://localhost:8080/"
        },
        "id": "IS5ejTlsbqmy",
        "outputId": "63b052b6-7bd8-4557-9029-68c63842703c"
      },
      "execution_count": 42,
      "outputs": [
        {
          "output_type": "stream",
          "name": "stdout",
          "text": [
            "myvector contains:  10 20 30\n",
            "10\n",
            "20\n",
            "30\n"
          ]
        },
        {
          "output_type": "execute_result",
          "data": {
            "text/plain": [
              ""
            ]
          },
          "metadata": {},
          "execution_count": 42
        }
      ]
    }
  ]
}