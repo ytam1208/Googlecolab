{
  "nbformat": 4,
  "nbformat_minor": 0,
  "metadata": {
    "colab": {
      "name": "\bdynamic_cast.ipynb",
      "provenance": [],
      "authorship_tag": "ABX9TyNOuZchfNtrBB4ZyZccwnPK",
      "include_colab_link": true
    },
    "kernelspec": {
      "name": "python3",
      "display_name": "Python 3"
    },
    "language_info": {
      "name": "python"
    }
  },
  "cells": [
    {
      "cell_type": "markdown",
      "metadata": {
        "id": "view-in-github",
        "colab_type": "text"
      },
      "source": [
        "<a href=\"https://colab.research.google.com/github/ytam1208/Googlecolab/blob/main/%08dynamic_cast.ipynb\" target=\"_parent\"><img src=\"https://colab.research.google.com/assets/colab-badge.svg\" alt=\"Open In Colab\"/></a>"
      ]
    },
    {
      "cell_type": "markdown",
      "source": [
        "# **상속 upcast, downcast 사용 예**\n",
        "<br>\n",
        "Animal 이라는 부모 클래스를 만들고 자식 클래스로 Cat과 Dog를 만들고 각각 100개씩 총 200개를 벡터에 넣어 관리를 하고 싶다.\n",
        "\n",
        "이때, vector<Cat>, vector<Dog> 이렇게 2개의 벡터로 관리하고 싶지 않고 하나의 벡터로 관리하고 싶을때?"
      ],
      "metadata": {
        "id": "R_8Q8FcWnYmI"
      }
    },
    {
      "cell_type": "code",
      "execution_count": 24,
      "metadata": {
        "colab": {
          "base_uri": "https://localhost:8080/"
        },
        "id": "LadyoVxchkBr",
        "outputId": "77989651-4f7a-426f-db47-02ec0d4e9927"
      },
      "outputs": [
        {
          "output_type": "stream",
          "name": "stdout",
          "text": [
            "Overwriting main.cpp\n"
          ]
        }
      ],
      "source": [
        "%%writefile main.cpp\n",
        "#include <iostream>\n",
        "#include <string>\n",
        "#include <vector>\n",
        "\n",
        "class Animal{\n",
        "public:\n",
        "  virtual void sound() = 0;\n",
        "  void info(){\n",
        "      std::cout << \"동물은 숨을 쉽니다.\" << std::endl;\n",
        "  }\n",
        "};\n",
        "\n",
        "class Dog : public Animal{\n",
        "private:\n",
        "  std::string name;\n",
        "public:\n",
        "  Dog(std::string s) : name(s){};\n",
        "  void sound(){\n",
        "      std::cout << \"뭥뭥\" << std::endl;\n",
        "  }\n",
        "  void name_print(){\n",
        "      std::cout << name << std::endl;\n",
        "  }\n",
        "  void only_dog(){\n",
        "      std::cout << \"이건 개 클래스\" << std::endl;\n",
        "  }\n",
        "};\n",
        "\n",
        "class Cat : public Animal{\n",
        "private:\n",
        "  std::string name;\n",
        "public:\n",
        "  Cat(std::string s) : name(s){};\n",
        "  void sound(){\n",
        "      std::cout << \"냐옹\" << std::endl;\n",
        "  }\n",
        "  void name_print(){\n",
        "      std::cout << name << std::endl;\n",
        "  }\n",
        "  void data(){\n",
        "      std::cout << this << std::endl;\n",
        "  }\n",
        "  void only_cat(){\n",
        "      std::cout << \"이건 고양이 클래스\" << std::endl;\n",
        "  }\n",
        "};\n",
        "\n",
        "int main()\n",
        "{\n",
        "    std::vector<Animal*> v;\n",
        "    v.emplace_back(new Cat(\"나비\"));\n",
        "    v.emplace_back(new Dog(\"멍멍이\"));\n",
        "\n",
        "    Cat* cat = (Cat*)v[0];\n",
        "    Dog* dog = (Dog*)v[1];\n",
        " \n",
        "    cat->name_print();\n",
        "    cat->sound();\n",
        "    dog->name_print();\n",
        "    dog->sound();\n",
        "\n",
        "    delete cat;\n",
        "    delete dog;\n",
        " \n",
        "    return 0;\n",
        "}"
      ]
    },
    {
      "cell_type": "code",
      "source": [
        "%%shell\n",
        "g++ main.cpp -o main\n",
        "./main"
      ],
      "metadata": {
        "colab": {
          "base_uri": "https://localhost:8080/"
        },
        "id": "IPtEOB66muiw",
        "outputId": "6bf527ed-c085-40e2-bc20-95a10788f5c5"
      },
      "execution_count": 25,
      "outputs": [
        {
          "output_type": "stream",
          "name": "stdout",
          "text": [
            "나비\n",
            "냐옹\n",
            "멍멍이\n",
            "뭥뭥\n"
          ]
        },
        {
          "output_type": "execute_result",
          "data": {
            "text/plain": [
              ""
            ]
          },
          "metadata": {},
          "execution_count": 25
        }
      ]
    },
    {
      "cell_type": "markdown",
      "source": [
        "만약 벡터에 들어가 있는 클래스는 Cat클래스 인데 Dog클래스로 받으면 컴파일은 되지만 끔직한 혼종이 탄생한다."
      ],
      "metadata": {
        "id": "472-9v_SoJin"
      }
    },
    {
      "cell_type": "code",
      "source": [
        "%%writefile main.cpp\n",
        "#include <iostream>\n",
        "#include <string>\n",
        "#include <vector>\n",
        "\n",
        "class Animal{\n",
        "public:\n",
        "  virtual void sound() = 0;\n",
        "  void info(){\n",
        "      std::cout << \"동물은 숨을 쉽니다.\" << std::endl;\n",
        "  }\n",
        "};\n",
        "\n",
        "class Dog : public Animal{\n",
        "private:\n",
        "  std::string name;\n",
        "public:\n",
        "  Dog(std::string s) : name(s){};\n",
        "  void sound(){\n",
        "      std::cout << \"뭥뭥\" << std::endl;\n",
        "  }\n",
        "  void name_print(){\n",
        "      std::cout << name << std::endl;\n",
        "  }\n",
        "  void only_dog(){\n",
        "      std::cout << \"이건 개 클래스\" << std::endl;\n",
        "  }\n",
        "};\n",
        "\n",
        "class Cat : public Animal{\n",
        "private:\n",
        "  std::string name;\n",
        "public:\n",
        "  Cat(std::string s) : name(s){};\n",
        "  void sound(){\n",
        "      std::cout << \"냐옹\" << std::endl;\n",
        "  }\n",
        "  void name_print(){\n",
        "      std::cout << name << std::endl;\n",
        "  }\n",
        "  void data(){\n",
        "      std::cout << this << std::endl;\n",
        "  }\n",
        "  void only_cat(){\n",
        "      std::cout << \"이건 고양이 클래스\" << std::endl;\n",
        "  }\n",
        "};\n",
        "\n",
        "int main()\n",
        "{\n",
        "    std::vector<Animal*> v;\n",
        "    v.emplace_back(new Cat(\"나비\"));\n",
        "    v.emplace_back(new Dog(\"멍멍이\"));\n",
        "\n",
        "    Cat* cat;\n",
        "    Dog* dog;\n",
        "\n",
        "    for(size_t idx = 0; idx < v.size(); idx++){\n",
        "      if(cat = dynamic_cast<Cat*>(v[idx])){\n",
        "          cat->name_print();\n",
        "          cat->sound();\n",
        "          cat->only_cat();\n",
        "      }        \n",
        "      else{\n",
        "          dog = dynamic_cast<Dog*>(v[idx]);\n",
        "          dog->name_print();\n",
        "          dog->sound();\n",
        "          dog->only_dog();\n",
        "      }\n",
        "    }\n",
        "\n",
        "    delete cat;\n",
        "    delete dog;\n",
        " \n",
        "    return 0;\n",
        "}"
      ],
      "metadata": {
        "colab": {
          "base_uri": "https://localhost:8080/"
        },
        "id": "3B7yyZyloIGW",
        "outputId": "03b8ce28-9c89-4f1a-bcd4-22cccd90f859"
      },
      "execution_count": 47,
      "outputs": [
        {
          "output_type": "stream",
          "name": "stdout",
          "text": [
            "Overwriting main.cpp\n"
          ]
        }
      ]
    },
    {
      "cell_type": "code",
      "source": [
        "%%shell\n",
        "g++ main.cpp -o main\n",
        "./main"
      ],
      "metadata": {
        "colab": {
          "base_uri": "https://localhost:8080/"
        },
        "id": "9QZpTnTToU5Y",
        "outputId": "5fd8c2f4-9a18-4216-8f09-94dc48076a37"
      },
      "execution_count": 48,
      "outputs": [
        {
          "output_type": "stream",
          "name": "stdout",
          "text": [
            "나비\n",
            "냐옹\n",
            "이건 고양이 클래스\n",
            "멍멍이\n",
            "뭥뭥\n",
            "이건 개 클래스\n"
          ]
        },
        {
          "output_type": "execute_result",
          "data": {
            "text/plain": [
              ""
            ]
          },
          "metadata": {},
          "execution_count": 48
        }
      ]
    },
    {
      "cell_type": "markdown",
      "source": [
        "이런식으로 상속을 통한\n",
        "<br>\n",
        "\n",
        "\n",
        "upcast -> 데이터 입력\n",
        "<br>\n",
        "downcast -> 데이터 출력\n",
        "<br>\n",
        "dynamic_cast -> 클래스 타입을 판단\n",
        "<br>\n",
        "\n",
        "\n",
        "을 통해서 상속을 통한 해당 클래스가 올바른 type의 형태인지 아닌지 판단을 할 수 있따."
      ],
      "metadata": {
        "id": "4zniHy7RrHNY"
      }
    }
  ]
}