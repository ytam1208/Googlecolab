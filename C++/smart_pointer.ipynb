{
  "nbformat": 4,
  "nbformat_minor": 0,
  "metadata": {
    "colab": {
      "name": "smart_pointer.ipynb",
      "provenance": [],
      "authorship_tag": "ABX9TyOpbKWoAci6F7YLmijZiF8f",
      "include_colab_link": true
    },
    "kernelspec": {
      "name": "python3",
      "display_name": "Python 3"
    },
    "language_info": {
      "name": "python"
    }
  },
  "cells": [
    {
      "cell_type": "markdown",
      "metadata": {
        "id": "view-in-github",
        "colab_type": "text"
      },
      "source": [
        "<a href=\"https://colab.research.google.com/github/ytam1208/Googlecolab/blob/main/smart_pointer.ipynb\" target=\"_parent\"><img src=\"https://colab.research.google.com/assets/colab-badge.svg\" alt=\"Open In Colab\"/></a>"
      ]
    },
    {
      "cell_type": "markdown",
      "source": [
        "# **스마트 포인터**\n",
        "c++ 프로그램에서 new 키워드를 사용하여 동적으로 할당받은 메모리는, 반드시 delete 키워드를 사용하여 해제해야 한다. \n",
        "<br>\n",
        "\n",
        "스마트 포인터란 포인터처럼 동작하는 클래스 템플릿으로, 사용이 끝난 메모리를 자동으로 해제해준다.\n",
        "<br>\n",
        "\n",
        "### **스마트 포인터 동작**\n",
        "보통 new 키워드를 사용해 기본 포인터(raw pointer)가 실제 메모리를 가리키도록 초기화한 후에, 기본 포인터를 스마트 포인터에 대입하여 사용한다. 이렇게 정의된 스마트 포인터의 수명이 다하면, 소멸자는 delete 키워드를 사용하여 할당된 메모리를 자동으로 해제한다.\n",
        "따라서 new 키워드가 반환하는 주소값을 스마트 포인터에 대입하면, 따로 메모리를 해제할 필요가 없어진다.\n",
        "<br>\n",
        "\n",
        "### **스마트 포인터 \b종류**\n",
        "1. unique_ptr\n",
        "2. shared_ptr\n",
        "3. weak_ptr"
      ],
      "metadata": {
        "id": "XjfDJfmC8BkQ"
      }
    },
    {
      "cell_type": "markdown",
      "source": [
        "**unique_ptr**\n",
        "- 하나의 스마트 포인터만이 특정 객체를 소유할 수 있도록, 객체에 소유권 개념을 도입한 스마트 포인터이다.\n",
        "이 스마트 포인터는 해당 객체의 소유권을 가지고 있을때만, 소멸자가 해당 객체를 삭제할 수 있다. unique_ptr 인스턴스는 move() 멤버 함수를 통해 소유권을 이전할 수는 있지만, 복사할 수 는 없다. 소유권이 이전되면, 기존의 unique_ptr 인스턴스는 더는 해당 객체를 소유하지 않게 재설정된다.\n",
        "\n",
        "\n",
        "\n",
        "```\n",
        "\bunique_ptr<int> ptr01(new int(5)); //int형 unique_ptr인 ptr01을 선언하고 초기화함.\n",
        "auto ptr02 = move(ptr01); //ptr01에서 ptr02로 소유권을 이전함.\n",
        "ptr02.reset(); //ptr02가 가리키고 있는 메모리 영역을 삭제함.\n",
        "ptr01.reset(); //ptr01가 가리키고 있는 메모리 영역을 삭제함.\n",
        "```\n",
        "\n",
        "c++14 이후부터 제공되는 make_unique()함수를 사용하면 unique_ptr 인스턴스를 안전하게 생성할 수 있습니다. make_unique() 함수는 전달받은 인수를 사용해 지정된 타입의 객체를 생성하고, 생성된 객체를 가리키는 unique_ptr을 반환합니다. 이 함수를 사용하면, 예외 발생에 대해 안전하게 대처할 수 있다.\n",
        "\n"
      ],
      "metadata": {
        "id": "5BaB_djb80vU"
      }
    },
    {
      "cell_type": "code",
      "execution_count": 21,
      "metadata": {
        "colab": {
          "base_uri": "https://localhost:8080/"
        },
        "id": "JR89pa_V8ASo",
        "outputId": "e591dfe7-d23f-43f7-ae8c-cbcfbdf53a8a"
      },
      "outputs": [
        {
          "output_type": "stream",
          "name": "stdout",
          "text": [
            "Overwriting main.cpp\n"
          ]
        }
      ],
      "source": [
        "%%writefile main.cpp\n",
        "#include <iostream>\n",
        "#include <string>\n",
        "#include <memory>\n",
        "\n",
        "class Person\n",
        "{\n",
        "private:\n",
        " std::string name_;\n",
        " int age_;\n",
        "public:\n",
        " Person(const std::string& name, int age); //기초 클래스 생성자의 선언\n",
        " ~Person(){std::cout << \"소멸자가 호출되었습니다.\" << std::endl;}\n",
        " void ShowPersoninfo();\n",
        "};\n",
        "\n",
        "int main()\n",
        "{\n",
        "    std::unique_ptr<Person> hong = std::make_unique<Person>(\"길동\",29);\n",
        "    hong->ShowPersoninfo();\n",
        " \n",
        "    return 0;\n",
        "}\n",
        "\n",
        "Person::Person(const std::string& name, int age)\n",
        "{\n",
        "    name_ = name;\n",
        "    age_ = age;\n",
        "    std::cout << \"생성자 호출\" << std::endl;\n",
        "}\n",
        "\n",
        "void Person::ShowPersoninfo(){\n",
        "    std::cout << name_ << \"의 나이는\" << age_ << \"살입니다.\" << std::endl;\n",
        "}"
      ]
    },
    {
      "cell_type": "code",
      "source": [
        "%%shell\n",
        "g++ main.cpp -o main\n",
        "./main"
      ],
      "metadata": {
        "colab": {
          "base_uri": "https://localhost:8080/"
        },
        "id": "yyHF9uSH-c_z",
        "outputId": "aa8b2c51-e9e8-4e2a-c90a-bf9e4c936e15"
      },
      "execution_count": 22,
      "outputs": [
        {
          "output_type": "stream",
          "name": "stdout",
          "text": [
            "생성자 호출\n",
            "길동의 나이는29살입니다.\n",
            "소멸자가 호출되었습니다.\n"
          ]
        },
        {
          "output_type": "execute_result",
          "data": {
            "text/plain": [
              ""
            ]
          },
          "metadata": {},
          "execution_count": 22
        }
      ]
    }
  ]
}