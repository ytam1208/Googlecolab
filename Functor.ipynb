{
  "nbformat": 4,
  "nbformat_minor": 0,
  "metadata": {
    "colab": {
      "name": "\bFunctor.ipynb",
      "provenance": [],
      "collapsed_sections": [],
      "authorship_tag": "ABX9TyPTLDTkN2lpjje0YS6fO3RK",
      "include_colab_link": true
    },
    "kernelspec": {
      "name": "python3",
      "display_name": "Python 3"
    },
    "language_info": {
      "name": "python"
    }
  },
  "cells": [
    {
      "cell_type": "markdown",
      "metadata": {
        "id": "view-in-github",
        "colab_type": "text"
      },
      "source": [
        "<a href=\"https://colab.research.google.com/github/ytam1208/Googlecolab/blob/main/%08Functor.ipynb\" target=\"_parent\"><img src=\"https://colab.research.google.com/assets/colab-badge.svg\" alt=\"Open In Colab\"/></a>"
      ]
    },
    {
      "cell_type": "markdown",
      "source": [
        "**함수 객체란 객체를 함수 호출 연산자 '()'를 오버로딩해서 함수처럼 호출될 수 있게한 객체를 의미한다.**\n",
        "즉, 펑터는 함수처럼 동작하는 클래스를 의미한다.\n",
        "\n",
        "장점\n",
        "1. 함수 객체는 기본적으로 클래스 객체이므로 멤버 변수, 멤버 함수를 활용 할 수 있다.\n",
        "2. 함수 포인터로 호출되는 경우 인라인될 수 없지만 함수 객체를 사용하면 인라인될 수 있어 성능 향상에 도움이 될 수 있다.(기본적으로 클래스의 선언 부분에 함수를 선언하고 동작까지 정의하면 인라인된다.)\n",
        "3. STL에서는 함수 객체를 많이 사용하고 있기 때문에 코드를 읽기 위해서라도 함수 객체를 반드시 알아야 한다.\n",
        "4. Functor는 자신만의 타입을 가진다. 한 마디로 타입으로 사용할 수 있다는 것이다."
      ],
      "metadata": {
        "id": "ZkT1G4ALoBjV"
      }
    },
    {
      "cell_type": "code",
      "execution_count": 31,
      "metadata": {
        "colab": {
          "base_uri": "https://localhost:8080/"
        },
        "id": "Y7bFGm43nrY4",
        "outputId": "11f522c7-8439-4f4c-b6f2-5cf42ec76bec"
      },
      "outputs": [
        {
          "output_type": "stream",
          "name": "stdout",
          "text": [
            "Overwriting main.cpp\n"
          ]
        }
      ],
      "source": [
        "%%writefile main.cpp\n",
        "#include <iostream>\n",
        "\n",
        "class functor\n",
        "{\n",
        "public:\n",
        "  functor() {}\n",
        "  ~functor() {}\n",
        "  \n",
        "  void operator()()\n",
        "  {\n",
        "       std::cout << \"This is functor\" << std::endl;\n",
        "  }\n",
        "  int operator()(const int& _num1, const int& _num2)\n",
        "  {\n",
        "      return  _num1 + _num2;\n",
        "  }\n",
        "  double operator()(const double& _num3, const double& _num4)\n",
        "  {\n",
        "      return  _num3 + _num4;\n",
        "  }\n",
        "};\n",
        "\n",
        "int main()\n",
        "{\n",
        "    functor func;\n",
        "    func(); //This is functor 출력\n",
        "    std::cout << func(1, 2) << std::endl;\n",
        "    std::cout << func(1.7, 3.2);\n",
        "    return 0;\n",
        "}"
      ]
    },
    {
      "cell_type": "code",
      "source": [
        "%%shell\n",
        "g++ main.cpp -o main\n",
        "./main"
      ],
      "metadata": {
        "colab": {
          "base_uri": "https://localhost:8080/"
        },
        "id": "m-ukIiEcnuaP",
        "outputId": "699e3ee5-24b7-4855-f668-425cf594d0be"
      },
      "execution_count": 32,
      "outputs": [
        {
          "output_type": "stream",
          "name": "stdout",
          "text": [
            "This is functor\n",
            "3\n",
            "4.9"
          ]
        },
        {
          "output_type": "execute_result",
          "data": {
            "text/plain": [
              ""
            ]
          },
          "metadata": {},
          "execution_count": 32
        }
      ]
    },
    {
      "cell_type": "code",
      "source": [
        "%%writefile main.cpp\n",
        "#include <iostream>\n",
        "\n",
        "class SortRule\n",
        "{\n",
        "public:\n",
        "  virtual bool operator()(int num1, int num2) const = 0;\n",
        "};\n",
        "\n",
        "class AscendingSort : public SortRule\n",
        "{\n",
        "public:\n",
        "  bool operator()(int num1, int num2) const\n",
        "  {\n",
        "     if(num1 > num2)\n",
        "      return true;\n",
        "     else \n",
        "      return false; \n",
        "  }\n",
        "};\n",
        "\n",
        "class DescendingSort : public SortRule\n",
        "{\n",
        "public:\n",
        "  bool operator()(int num1, int num2) const\n",
        "  {\n",
        "      if(num1 < num2)\n",
        "        return false;\n",
        "      else\n",
        "        return true;\n",
        "  }\n",
        "};\n",
        "\n",
        "class DataStorage\n",
        "{\n",
        "    int *arr, idx;\n",
        "    const int MAX_LEN;\n",
        "public:\n",
        "  DataStorage(int arrlen) : idx(0), MAX_LEN(arrlen)\n",
        "  {\n",
        "      arr = new int[MAX_LEN];\n",
        "  }\n",
        "  void AddData(int num)\n",
        "  {\n",
        "      if (MAX_LEN <= idx)\n",
        "      {\n",
        "          std::cout << \"더 이상 저장이 불가능합니다.\" << std::endl;\n",
        "          return;\n",
        "      }\n",
        "      arr[idx++] = num;\n",
        "  }\n",
        "  void ShowAllData()\n",
        "  {\n",
        "      for(int i = 0; i < idx; i++){\n",
        "          std::cout << arr[i] << ' ';\n",
        "      }\n",
        "      std::cout << std::endl;\n",
        "\n",
        "      std::cout << std::endl;\n",
        "  }\n",
        "  void SortData(const SortRule &functor)\n",
        "  {\n",
        "      bool flag = true;\n",
        "      for(int i = 0; i < (idx - 1); i++)\n",
        "        for(int j = 0; j < (idx - 1); j++){\n",
        "            flag = false;\n",
        "            if(functor(arr[j], arr[j+1]))\n",
        "            {\n",
        "                int temp = arr[j];\n",
        "                arr[j] = arr[j + 1];\n",
        "                arr[j + 1] = temp;\n",
        "                flag = true;\n",
        "            }\n",
        "        }\n",
        "  }\n",
        "};\n",
        "\n",
        "int main()\n",
        "{\n",
        "    DataStorage sto(5);\n",
        "    sto.AddData(40);\n",
        "    sto.AddData(30);\n",
        "    sto.AddData(50);\n",
        "    sto.AddData(20);\n",
        "    sto.AddData(10);\n",
        " \n",
        "    sto.SortData(AscendingSort());\n",
        "    sto.ShowAllData();\n",
        " \n",
        "    sto.SortData(DescendingSort());\n",
        "    sto.ShowAllData();\n",
        "    return 0;\n",
        "}"
      ],
      "metadata": {
        "colab": {
          "base_uri": "https://localhost:8080/"
        },
        "id": "V6aWD6NZt6uQ",
        "outputId": "44830f1b-2958-468e-97f9-7fc0a7d591a9"
      },
      "execution_count": 42,
      "outputs": [
        {
          "output_type": "stream",
          "name": "stdout",
          "text": [
            "Overwriting main.cpp\n"
          ]
        }
      ]
    },
    {
      "cell_type": "code",
      "source": [
        "%%shell\n",
        "g++ main.cpp -o main\n",
        "./main"
      ],
      "metadata": {
        "colab": {
          "base_uri": "https://localhost:8080/"
        },
        "id": "P0cyB-WmwH_f",
        "outputId": "f195f8e9-4dc1-45af-9448-d2d03fa78b49"
      },
      "execution_count": 43,
      "outputs": [
        {
          "output_type": "stream",
          "name": "stdout",
          "text": [
            "10 20 30 40 50 \n",
            "\n",
            "10 20 30 40 50 \n",
            "\n"
          ]
        },
        {
          "output_type": "execute_result",
          "data": {
            "text/plain": [
              ""
            ]
          },
          "metadata": {},
          "execution_count": 43
        }
      ]
    },
    {
      "cell_type": "markdown",
      "source": [
        "거두절미하고 그냥..펑터는 유연하다."
      ],
      "metadata": {
        "id": "SgReqxJXxoIi"
      }
    }
  ]
}