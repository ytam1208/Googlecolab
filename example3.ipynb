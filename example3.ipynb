{
  "nbformat": 4,
  "nbformat_minor": 0,
  "metadata": {
    "colab": {
      "name": "example3.ipynb",
      "provenance": [],
      "collapsed_sections": [],
      "authorship_tag": "ABX9TyNd3Tkdlii+qfL5wtcL+gM1",
      "include_colab_link": true
    },
    "kernelspec": {
      "name": "python3",
      "display_name": "Python 3"
    },
    "language_info": {
      "name": "python"
    }
  },
  "cells": [
    {
      "cell_type": "markdown",
      "metadata": {
        "id": "view-in-github",
        "colab_type": "text"
      },
      "source": [
        "<a href=\"https://colab.research.google.com/github/ytam1208/Googlecolab/blob/main/example3.ipynb\" target=\"_parent\"><img src=\"https://colab.research.google.com/assets/colab-badge.svg\" alt=\"Open In Colab\"/></a>"
      ]
    },
    {
      "cell_type": "code",
      "execution_count": 6,
      "metadata": {
        "colab": {
          "base_uri": "https://localhost:8080/"
        },
        "id": "y8xcmqXrYwJg",
        "outputId": "0835c5d8-0b0a-440f-e64e-5e10ea53cdb4"
      },
      "outputs": [
        {
          "output_type": "stream",
          "name": "stdout",
          "text": [
            "10\n",
            "4\n",
            "30\n",
            "30\n",
            "50\n"
          ]
        }
      ],
      "source": [
        "#함수\n",
        "#내장함수\n",
        "a = [1,2,3,4]\n",
        "print(sum(a))\n",
        "_max = max(a)\n",
        "print(_max)\n",
        "\n",
        "def add_0():\n",
        "  a = 10\n",
        "  b = 20\n",
        "  summation = a+b\n",
        "  print(summation)\n",
        "\n",
        "add_0()\n",
        "\n",
        "def add_1():\n",
        "  a = 10\n",
        "  b = 20\n",
        "  summation = a+b\n",
        "  return summation,a,b\n",
        "print(add_1())\n",
        "\n",
        "def add_2(a,b):\n",
        "  return a + b + 10\n",
        "\n",
        "my_data = add_2(10,30)\n",
        "print(my_data)"
      ]
    },
    {
      "cell_type": "code",
      "source": [
        "def test(my_list):\n",
        "  result = []\n",
        "  for data in my_list:\n",
        "    result.append(data)\n",
        "  return sum(result)\n",
        "\n",
        "a = [1,2,3,4,5,6,7,8,9]\n",
        "my_result = test(a)\n",
        "print(my_result)"
      ],
      "metadata": {
        "colab": {
          "base_uri": "https://localhost:8080/"
        },
        "id": "vQwLAz8lZwDr",
        "outputId": "53f8ea02-94b0-4bd1-a273-69f2cf2fd6bf"
      },
      "execution_count": 8,
      "outputs": [
        {
          "output_type": "stream",
          "name": "stdout",
          "text": [
            "45\n"
          ]
        }
      ]
    },
    {
      "cell_type": "code",
      "source": [
        "#가변길이 인자, 정해져있는 인자의 갯수가 아닌\n",
        "def test(*data): # *args\n",
        "  print(type(data))\n",
        "  for item in data:\n",
        "    print(item)\n",
        "\n",
        "my_data1 = [10,20,30,40,50]\n",
        "test(my_data1)\n",
        "\n",
        "my_data2 = (10,20,30,40,50)\n",
        "test(my_data2)\n",
        "\n",
        "my_data3 = {10,20,30,40,50}\n",
        "test(my_data3)"
      ],
      "metadata": {
        "colab": {
          "base_uri": "https://localhost:8080/"
        },
        "id": "fUBza1eBaP1u",
        "outputId": "272781da-b262-4dfe-fdf1-536609781385"
      },
      "execution_count": 24,
      "outputs": [
        {
          "output_type": "stream",
          "name": "stdout",
          "text": [
            "<class 'tuple'>\n",
            "[10, 20, 30, 40, 50]\n",
            "<class 'tuple'>\n",
            "(10, 20, 30, 40, 50)\n",
            "<class 'tuple'>\n",
            "{40, 10, 50, 20, 30}\n"
          ]
        }
      ]
    },
    {
      "cell_type": "code",
      "source": [
        "def add_1():\n",
        "  a = 10\n",
        "  b = 20\n",
        "  summation = a+b\n",
        "  return summation,a,b\n",
        "\n",
        "my1, my2, my3 = add_1()\n",
        "print(my1, my2, my3)"
      ],
      "metadata": {
        "id": "JezvK43SanIl"
      },
      "execution_count": null,
      "outputs": []
    },
    {
      "cell_type": "code",
      "source": [
        "#람다함수\n",
        "#한번만 실행되는 함수\n",
        "\n",
        "def my_square(num):\n",
        "  return num**2\n",
        "\n",
        "square = lambda x: x**2\n",
        "print(square(5))\n",
        "\n",
        "#여러 변수를 넣고싶으면\n",
        "my_cal = lambda x, y: x**2 + y\n",
        "print(my_cal(10,20))"
      ],
      "metadata": {
        "colab": {
          "base_uri": "https://localhost:8080/"
        },
        "id": "lOjkYT7Ebrii",
        "outputId": "b2e8b839-0769-48e3-dccc-20c7c97ccfa5"
      },
      "execution_count": 26,
      "outputs": [
        {
          "output_type": "stream",
          "name": "stdout",
          "text": [
            "25\n",
            "120\n"
          ]
        }
      ]
    },
    {
      "cell_type": "code",
      "source": [
        "# filter, map\n",
        "# 특정 조건을 만족한 요소만 남기고 필터링\n",
        "nums = [1,2,3,4,5,6,8,9]\n",
        "\n",
        "#짝수만 남기기\n",
        "def even(n):\n",
        "  return n % 2 == 0 # 2로 나눴을때 참일때만 return\n",
        "\n",
        "print(list(filter(even, nums)))\n",
        "\n",
        "print(list(filter(lambda x:x%2 == 0, nums)))"
      ],
      "metadata": {
        "colab": {
          "base_uri": "https://localhost:8080/"
        },
        "id": "FKd_-lL6cWOY",
        "outputId": "c70e5cb8-6997-4055-bcf7-4b1842ad3acc"
      },
      "execution_count": 29,
      "outputs": [
        {
          "output_type": "stream",
          "name": "stdout",
          "text": [
            "[2, 4, 6, 8]\n",
            "[2, 4, 6, 8]\n"
          ]
        }
      ]
    },
    {
      "cell_type": "code",
      "source": [
        "#class\n",
        "class Person:\n",
        "  name = \"\"\n",
        "  age = \"\"\n",
        "  phone = \"\"\n",
        "  job = \"\"\n",
        "\n",
        "Paul = Person()\n",
        "Paul.name = \"바울\"\n",
        "Paul.age = 100\n",
        "Paul.phone = \"1111\"\n",
        "Paul.job = \"developer\"\n",
        "\n",
        "print(Paul.name)\n",
        "print(Paul.age)\n",
        "print(Paul.job)"
      ],
      "metadata": {
        "colab": {
          "base_uri": "https://localhost:8080/"
        },
        "id": "Bawha9xkdgKW",
        "outputId": "ca26b50f-62c1-4360-d275-1c87fe7b0b05"
      },
      "execution_count": 33,
      "outputs": [
        {
          "output_type": "stream",
          "name": "stdout",
          "text": [
            "바울\n",
            "100\n",
            "developer\n"
          ]
        }
      ]
    },
    {
      "cell_type": "code",
      "source": [
        "class person:\n",
        "  def __init__(self): # Person클래스가 선언될때 바로 시작되는 함수\n",
        "    self.name = \"바울\" # self는 자기 자신 속성 중에 name을 사용할거다\n",
        "    self.age = 100\n",
        "\n",
        "paul = person()\n",
        "print(paul.name)\n",
        "print(paul.age)\n",
        "\n",
        "class person:\n",
        "  def __init__(self, name, age): # Person클래스가 선언될때 바로 시작되는 함수\n",
        "    self.name = name # self는 자기 자신 속성 중에 name을 사용할거다\n",
        "    self.age = age\n",
        "    print(\"init함수가 실행되었습니다.\")\n",
        "\n",
        "paul = person(\"바울1\", 100)\n",
        "print(paul.name)\n",
        "print(paul.age)\n",
        "paul = person(\"바울2\", 1001)\n",
        "print(paul.name)\n",
        "print(paul.age)\n",
        "paul = person(\"바울2\", 1002)\n",
        "print(paul.name)\n",
        "print(paul.age)\n",
        "\n",
        "def my_print(self):\n",
        "  print(\"이름: \", self.name, \" 나이: \", self.age)\n",
        "\n",
        "print(my_print(paul))"
      ],
      "metadata": {
        "colab": {
          "base_uri": "https://localhost:8080/"
        },
        "id": "SuEdWYB5eFrh",
        "outputId": "5b045a5e-b83e-4f20-960a-c6d9977857c1"
      },
      "execution_count": 37,
      "outputs": [
        {
          "output_type": "stream",
          "name": "stdout",
          "text": [
            "바울\n",
            "100\n",
            "init함수가 실행되었습니다.\n",
            "바울1\n",
            "100\n",
            "init함수가 실행되었습니다.\n",
            "바울2\n",
            "1001\n",
            "init함수가 실행되었습니다.\n",
            "바울2\n",
            "1002\n",
            "이름:  바울2  나이:  1002\n",
            "None\n"
          ]
        }
      ]
    }
  ]
}