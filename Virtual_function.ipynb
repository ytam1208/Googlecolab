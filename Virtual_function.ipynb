{
  "nbformat": 4,
  "nbformat_minor": 0,
  "metadata": {
    "colab": {
      "name": "Virtual function.ipynb",
      "provenance": [],
      "authorship_tag": "ABX9TyNKlU66NiG8/UfQKHRoLieL",
      "include_colab_link": true
    },
    "kernelspec": {
      "name": "python3",
      "display_name": "Python 3"
    },
    "language_info": {
      "name": "python"
    }
  },
  "cells": [
    {
      "cell_type": "markdown",
      "metadata": {
        "id": "view-in-github",
        "colab_type": "text"
      },
      "source": [
        "<a href=\"https://colab.research.google.com/github/ytam1208/Googlecolab/blob/main/Virtual_function.ipynb\" target=\"_parent\"><img src=\"https://colab.research.google.com/assets/colab-badge.svg\" alt=\"Open In Colab\"/></a>"
      ]
    },
    {
      "cell_type": "markdown",
      "source": [
        "# **Pure virtual function**\n",
        "\n",
        "virtual void foo() = 0;\n",
        "이렇게 생긴 녀석들을 순수 가상함수라고 부른다.\n",
        "함수의 정의가 이뤄지지 않고 함수만 선언한 것이다.\n",
        "이렇게 선언된 순수 가상 함수가 있다면 이를 추상클래스(abstract class)라고 부른다.\n",
        "또한 이 추상클래스는 객체로 만들지 못하고 상속으로써만 사용된다.\n",
        "그리고 추상클래스를 상속받은 자식 클래스는 무조건 해당 순수 가상 함수를 override 시켜줘야 한다."
      ],
      "metadata": {
        "id": "twfM172ceJcF"
      }
    },
    {
      "cell_type": "code",
      "execution_count": 6,
      "metadata": {
        "colab": {
          "base_uri": "https://localhost:8080/"
        },
        "id": "YG1DsLyvZFc2",
        "outputId": "f541d3fa-3e51-45c3-c5aa-c3d468c69ab7"
      },
      "outputs": [
        {
          "output_type": "stream",
          "name": "stdout",
          "text": [
            "Overwriting main.cpp\n"
          ]
        }
      ],
      "source": [
        "%%writefile main.cpp\n",
        "#include <iostream>\n",
        "\n",
        "class A{\n",
        "public:\n",
        "  virtual void foo() = 0;\n",
        "};\n",
        "\n",
        "class B : public A{\n",
        "public:\n",
        "  void foo() override{\n",
        "      std::cout << \"오버라이드\" << std::endl;\n",
        "  }\n",
        "};\n",
        "\n",
        "int main()\n",
        "{\n",
        "    //A a; error 발생\n",
        "    B b;\n",
        "    b.foo();\n",
        " \n",
        "    return 0;\n",
        "}"
      ]
    },
    {
      "cell_type": "code",
      "source": [
        "%%shell\n",
        "g++ main.cpp -o main\n",
        "./main"
      ],
      "metadata": {
        "colab": {
          "base_uri": "https://localhost:8080/"
        },
        "id": "MHvF-h_qeGQf",
        "outputId": "a08b1ba1-c7ed-4209-dcfa-31afa4e6d9f4"
      },
      "execution_count": 7,
      "outputs": [
        {
          "output_type": "stream",
          "name": "stdout",
          "text": [
            "오버라이드\n"
          ]
        },
        {
          "output_type": "execute_result",
          "data": {
            "text/plain": [
              ""
            ]
          },
          "metadata": {},
          "execution_count": 7
        }
      ]
    },
    {
      "cell_type": "markdown",
      "source": [
        "A class는 단순히 추상클래스(abstract class)이기 때문에 선언을 할 수 없다.\n",
        "B class는 추상클래스를 상속받기 때문에 순수 가상함수인 foo()를 override 해준다.\n",
        "즉, 추상 클래스의 특징은 override 그러니까 함수를 재정의를 해주지 않으면 코드상에서 오류로 판단된다. \n",
        "무조건 재 정의를 해줘야 하기 때문에 컴파일러에서 이런 실수를 잡아준다."
      ],
      "metadata": {
        "id": "EyM6nyusfMRJ"
      }
    },
    {
      "cell_type": "code",
      "source": [
        "%%writefile main.cpp\n",
        "#include <iostream>\n",
        "\n",
        "class A{\n",
        "public:\n",
        "  virtual void foo() = 0;\n",
        "  virtual void talk() = 0;\n",
        "  virtual int number() = 0;\n",
        "};\n",
        "\n",
        "class B{\n",
        "  B(string s){name = s;}\n",
        "  virtual void foo() = 0;\n",
        "  void print(){\n",
        "      std::cout << \"hello\" << std::endl;\n",
        "  }\n",
        "private:\n",
        "  int arr[10];\n",
        "  int num = 0;\n",
        "  string name;\n",
        "};\n",
        "\n",
        "int main()\n",
        "{\n",
        "    //A a; error 발생\n",
        "    B b(\"apple\");\n",
        "    b.foo();\n",
        " \n",
        "    return 0;\n",
        "}"
      ],
      "metadata": {
        "colab": {
          "base_uri": "https://localhost:8080/"
        },
        "id": "GCw-FhiTfy4S",
        "outputId": "9a352aaa-0173-4a8e-a0a4-e2a0a73ab362"
      },
      "execution_count": 14,
      "outputs": [
        {
          "output_type": "stream",
          "name": "stdout",
          "text": [
            "Overwriting main.cpp\n"
          ]
        }
      ]
    },
    {
      "cell_type": "markdown",
      "source": [
        "위 A 클래스는 순수 가상 함수로만 이루어진 추상 클래스이다.\n",
        "<br>\n",
        "\n",
        "B 클래스는 순수 가상 함수와 멤버변수, 일반적인 함수로 이루어진 추상 클래스이다.\n",
        "<br>\n",
        "\n",
        "A를 상속받게 된다면 필요해 의해 함수를 모두 재정의를 해줘야 한다. \n",
        "<br>\n",
        "\n",
        "그렇기 때문에 함수 정의를 빼먹는 실수를 없앨 수 있고, 상속으로 인해 차지하는 불필요한 데이터들 또한 없다.\n",
        "<br>\n",
        "\n",
        "B를 상속받게 된다면 해당 멤버변수들의 데이터 크기까지 자식 클래스가 갖게 된다.\n",
        "<br>\n",
        "\n",
        "하지만 자식 클래스에서 B클래스의 맴버변수를 사용 안할 수 있고, 함수도 사용 안할 수 있다.\n",
        "<br>\n",
        "\n",
        "그렇게되면 이는 불필요한 데이터이기 때문에\n",
        "이런 복잡한 과정을 순수 가상 함수로만 이뤄진 추상 클래스를 사용하면 편리하다.\n",
        "<br>\n",
        "\n",
        "순수 가상 함수로만 이루어진 추상 클래스를 인터페이스(interface)라고 부른다."
      ],
      "metadata": {
        "id": "h1kgvt6tgcxM"
      }
    }
  ]
}