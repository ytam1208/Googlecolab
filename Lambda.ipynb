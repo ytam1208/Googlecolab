{
  "nbformat": 4,
  "nbformat_minor": 0,
  "metadata": {
    "colab": {
      "name": "Lambda.ipynb",
      "provenance": [],
      "authorship_tag": "ABX9TyP60sqOTS/hI3/tDkZZBoPQ",
      "include_colab_link": true
    },
    "kernelspec": {
      "name": "python3",
      "display_name": "Python 3"
    },
    "language_info": {
      "name": "python"
    }
  },
  "cells": [
    {
      "cell_type": "markdown",
      "metadata": {
        "id": "view-in-github",
        "colab_type": "text"
      },
      "source": [
        "<a href=\"https://colab.research.google.com/github/ytam1208/Googlecolab/blob/main/Lambda.ipynb\" target=\"_parent\"><img src=\"https://colab.research.google.com/assets/colab-badge.svg\" alt=\"Open In Colab\"/></a>"
      ]
    },
    {
      "cell_type": "markdown",
      "source": [
        "# **Lamda function**\n",
        "[변수 캡쳐](받을 인자)->리턴타입{함수}(넘길 인자)\n",
        "\n",
        "**[변수캡쳐]**는 현재 함수에서 사용할 외부 변수들을 뜻함\n",
        "main함수에 int num; 이라는 변수가 있다면 그 변수를 사용하기 위해서는 변수 캡쳐를 사용하여야 한다.\n",
        "변수 캡쳐에 =를 넣으면 해당 함수의 모든 변수를 전부다 사용한다는 의미\n",
        "&를 넣으면 모든 변수를 참조형으로 받아들인다는 의미이다.\n",
        "[=,&num]처럼 특정 변수만 참조형으로 사용하는 것도 가능\n",
        "비워두면 아무것도 사용하지 않는다는 뜻\n",
        "참고로 전역변수는 캡쳐를 해줄 필요가 없다.\n",
        "\n",
        "**(받는 인자)**부분은 말 그대로 함수에서 받는 인자들이다.\n",
        "일반적으로 int add(int a, int b); 선언할때 괄호 안에 있는 a,b변수처럼 인자로 값을 받을 타입들을 지정해주는 것이다.\n",
        "\n",
        "**->리턴타입** 이것도 말 그대로 리턴을 해주는 타입을 지정해주는 것 void일 경우 화살표와 함께 생략할 수 있다.\n",
        "\n",
        "**{함수}** 함수 몸체 영역이다.\n",
        "\n",
        "**(넘길 인자)** 호출하는 함수에서 넘겨주는 값들이다. 예를들어 add(10,20);으로 함수를 호출할때 10,20을 넣어주는 것처럼 넣어주면 된다."
      ],
      "metadata": {
        "id": "P53dhSI0N9-B"
      }
    },
    {
      "cell_type": "code",
      "execution_count": 28,
      "metadata": {
        "colab": {
          "base_uri": "https://localhost:8080/"
        },
        "id": "O3r6ROaaI1a2",
        "outputId": "e232a625-7ac6-48a1-b929-6649221f4779"
      },
      "outputs": [
        {
          "output_type": "stream",
          "name": "stdout",
          "text": [
            "Overwriting main.cpp\n"
          ]
        }
      ],
      "source": [
        "%%writefile main.cpp\n",
        "#include <iostream>\n",
        "int main()\n",
        "{\n",
        "    int a = 5;\n",
        "    int b = 2;\n",
        " \n",
        "    int result_1 = [](int c, int b)->int{return c+b;}(a,b);\n",
        "    int result_2 = [=]()->int{return a+b;}();\n",
        "\n",
        "    int num = 10;\n",
        "    int result_3 = [&a,&b,&num](int c)->int{return a+b+c;}(num);\n",
        " \n",
        "    std::cout << result_1 << std::endl;\n",
        "    std::cout << result_2 << std::endl;\n",
        "    std::cout << result_3 << std::endl;\n",
        " \n",
        "    return 0;\n",
        "}"
      ]
    },
    {
      "cell_type": "code",
      "source": [
        "%%shell\n",
        "g++ main.cpp -o main\n",
        "./main"
      ],
      "metadata": {
        "colab": {
          "base_uri": "https://localhost:8080/"
        },
        "id": "vrHLqB5_I6OE",
        "outputId": "2793bec3-071e-42df-f40d-e385990e240a"
      },
      "execution_count": 29,
      "outputs": [
        {
          "output_type": "stream",
          "name": "stdout",
          "text": [
            "7\n",
            "7\n",
            "17\n"
          ]
        },
        {
          "output_type": "execute_result",
          "data": {
            "text/plain": [
              ""
            ]
          },
          "metadata": {},
          "execution_count": 29
        }
      ]
    },
    {
      "cell_type": "markdown",
      "source": [
        "람다 함수 중복\n",
        "-> 람다함수안에 람다함수를 넣는다."
      ],
      "metadata": {
        "id": "8rtXt_-fQ5Qw"
      }
    },
    {
      "cell_type": "code",
      "source": [
        "%%writefile main.cpp\n",
        "#include <iostream>\n",
        "int main()\n",
        "{\n",
        "    int a = 5;\n",
        "    int b = 2;\n",
        " \n",
        "    int result = [&]()->int{\n",
        "        return [&]()->int{return a+b;}();\n",
        "    }();\n",
        " \n",
        "    std::cout << result << std::endl;\n",
        "\n",
        "    return 0;\n",
        "}"
      ],
      "metadata": {
        "colab": {
          "base_uri": "https://localhost:8080/"
        },
        "id": "DAwlvDqrP3Ly",
        "outputId": "7149ce18-0826-492f-c45d-07a869dabe9f"
      },
      "execution_count": 33,
      "outputs": [
        {
          "output_type": "stream",
          "name": "stdout",
          "text": [
            "Overwriting main.cpp\n"
          ]
        }
      ]
    },
    {
      "cell_type": "code",
      "source": [
        "%%shell\n",
        "g++ main.cpp -o main\n",
        "./main"
      ],
      "metadata": {
        "colab": {
          "base_uri": "https://localhost:8080/"
        },
        "id": "SMwBZIfhQirc",
        "outputId": "1a7bba9f-58a5-4781-8610-012ed8b3916f"
      },
      "execution_count": 34,
      "outputs": [
        {
          "output_type": "stream",
          "name": "stdout",
          "text": [
            "7\n"
          ]
        },
        {
          "output_type": "execute_result",
          "data": {
            "text/plain": [
              ""
            ]
          },
          "metadata": {},
          "execution_count": 34
        }
      ]
    },
    {
      "cell_type": "markdown",
      "source": [
        "클래스의 맴버함수에 있는 람다함수\n",
        "-> 클래스 맴버함수에 람다함수가 들어있을 경우 따로 변수 캡쳐를 [=]로 지정해서 사용하면 this 포인터를 이용해 변수영역에 접근하는 방식이다.\n",
        "하지만 반대로 [&] 방식은 참조방식이기 때문에 에러가 뜬다."
      ],
      "metadata": {
        "id": "tCd21sJaRMwa"
      }
    },
    {
      "cell_type": "code",
      "source": [
        "%%writefile main.cpp\n",
        "#include <iostream>\n",
        "\n",
        "class AAA\n",
        "{\n",
        "public:\n",
        "  int a;\n",
        "  int b;\n",
        "  AAA(int _a, int _b)\n",
        "  {\n",
        "      a = _a;\n",
        "      b = _b;\n",
        "  }\n",
        "  int add1()\n",
        "  {\n",
        "      return [=]()->int{return a+b;}();\n",
        "  }\n",
        "  # int add2()\n",
        "  # {\n",
        "  #     return [&]()->int{return a+b;}();\n",
        "  # }\n",
        "};\n",
        "\n",
        "int main()\n",
        "{\n",
        "    AAA test_class(1,1);\n",
        "    std::cout << test_class.add1() << std::endl;\n",
        "    # std::cout << test_class.add2() << std::end;\n",
        "    return 0;\n",
        "}"
      ],
      "metadata": {
        "colab": {
          "base_uri": "https://localhost:8080/"
        },
        "id": "PGAEj3aHRL9K",
        "outputId": "8753ab6f-38af-4512-dcb9-572f776547de"
      },
      "execution_count": 39,
      "outputs": [
        {
          "output_type": "stream",
          "name": "stdout",
          "text": [
            "Overwriting main.cpp\n"
          ]
        }
      ]
    },
    {
      "cell_type": "code",
      "source": [
        "%%shell\n",
        "g++ main.cpp -o main\n",
        "./main"
      ],
      "metadata": {
        "colab": {
          "base_uri": "https://localhost:8080/"
        },
        "id": "QfNSFFqzRzvg",
        "outputId": "55d44ad5-0ee6-484d-b8f0-e899ed10437f"
      },
      "execution_count": 40,
      "outputs": [
        {
          "output_type": "stream",
          "name": "stdout",
          "text": [
            "2\n"
          ]
        },
        {
          "output_type": "execute_result",
          "data": {
            "text/plain": [
              ""
            ]
          },
          "metadata": {},
          "execution_count": 40
        }
      ]
    },
    {
      "cell_type": "markdown",
      "source": [
        "람다함수를 포인터로\n",
        "함수포인터로 다루는 방법은 두가지가 있다.\n",
        "auto를 사용하거나 std::function을 사용하는 것이다.\n",
        "아래와 같은 방법은 std::function을 사용하여 함수포인터로 활용할 수 있다. 함수포인터를 선언할때는 {}뒤에 있는 인자값을 받는 ()를 생략해도 된다."
      ],
      "metadata": {
        "id": "ZmRWfEb_TjYN"
      }
    },
    {
      "cell_type": "code",
      "source": [
        "%%writefile main.cpp\n",
        "#include <iostream>\n",
        "#include <functional>\n",
        "\n",
        "int main()\n",
        "{\n",
        "    int a = 1;\n",
        "    int b = 2;\n",
        "    std::function<int()> func1 = [&]()->int{return a+b;};\n",
        "    std::function<void(int)> func2 = [](int c){std::cout << c << std::endl;};\n",
        "    std::cout << func1() << std::endl;\n",
        "    func2(a);\n",
        " \n",
        "    std::function<int(int)> func3 = [&func3](int x)->int{\n",
        "        return x <= 1 ? 1 : x * func3(x-1);\n",
        "    };\n",
        "    std::cout << \"factorial(5): \" << func3(5) << std::endl;\n",
        "\n",
        "    return 0;\n",
        "}"
      ],
      "metadata": {
        "colab": {
          "base_uri": "https://localhost:8080/"
        },
        "id": "inHOyly0SYx8",
        "outputId": "a63dacbd-8d24-41cb-d17c-69ec0c35d26d"
      },
      "execution_count": 55,
      "outputs": [
        {
          "output_type": "stream",
          "name": "stdout",
          "text": [
            "Overwriting main.cpp\n"
          ]
        }
      ]
    },
    {
      "cell_type": "code",
      "source": [
        "%%shell\n",
        "g++ main.cpp -o main\n",
        "./main"
      ],
      "metadata": {
        "colab": {
          "base_uri": "https://localhost:8080/"
        },
        "id": "DPppRtU4S2wS",
        "outputId": "2fb31604-7cc4-4140-e194-af972e0a303f"
      },
      "execution_count": 56,
      "outputs": [
        {
          "output_type": "stream",
          "name": "stdout",
          "text": [
            "3\n",
            "1\n",
            "factorial(5): 120\n"
          ]
        },
        {
          "output_type": "execute_result",
          "data": {
            "text/plain": [
              ""
            ]
          },
          "metadata": {},
          "execution_count": 56
        }
      ]
    }
  ]
}